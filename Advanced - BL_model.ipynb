{
 "cells": [
  {
   "cell_type": "markdown",
   "metadata": {},
   "source": [
    "Alpha (α), Beta (ß), Gamma (Γ), Delta (δ), Epsilon (ε), Theta (Θ), Omega (Ω), Pi (π), Mu (µ), Sigma (Σ, σ), Tau (τ), Phi (Φ, φ). Dérivée: ∂"
   ]
  },
  {
   "cell_type": "markdown",
   "metadata": {},
   "source": [
    "# Modèle Black Litterman - Explications et implémentation avec yahoo finance"
   ]
  },
  {
   "cell_type": "markdown",
   "metadata": {},
   "source": [
    "Inputs: Expected return + covariance\n",
    "Outputs: Optimal weights\n",
    "\n",
    "A mix between what you think and what market thinks\n",
    "\n",
    "Process: use the implied returns from the market and your expectations and come up with optimal weigts"
   ]
  },
  {
   "cell_type": "markdown",
   "metadata": {},
   "source": [
    "Helper Functions:"
   ]
  },
  {
   "cell_type": "code",
   "execution_count": 2,
   "metadata": {},
   "outputs": [
    {
     "data": {
      "text/plain": [
       "array([[0],\n",
       "       [1],\n",
       "       [2],\n",
       "       [3]])"
      ]
     },
     "execution_count": 2,
     "metadata": {},
     "output_type": "execute_result"
    }
   ],
   "source": [
    "import numpy as np \n",
    "import pandas as pd \n",
    "import yfinance as yf\n",
    "from numpy.linalg import inv \n",
    "from pandas_datareader import data\n",
    "from pandas.util.testing import assert_frame_equal\n",
    "\n",
    "# function vect columns \n",
    "def as_colvec(x):\n",
    "        if(x.ndim ==2 ):\n",
    "            return x \n",
    "        else : \n",
    "            return np.expand_dims(x,axis=1)\n",
    "        \n",
    "as_colvec(np.arange(4))"
   ]
  },
  {
   "cell_type": "markdown",
   "metadata": {},
   "source": [
    "Master Equation: π = δΣw"
   ]
  },
  {
   "cell_type": "markdown",
   "metadata": {},
   "source": [
    "If the investor doesn't want to set confidence level on his views, then Ω is a matrix proportional to the covariance matrix of the prior: \n",
    "\n",
    "Ω = diag(P(τΣ)P.T)"
   ]
  },
  {
   "cell_type": "code",
   "execution_count": 4,
   "metadata": {},
   "outputs": [],
   "source": [
    "def implied_returns(delta, sigma, w, rf=0.02):\n",
    "#delta = risk aversion coefficient (scalar)\n",
    "#sigma = Var-Cov matirx \n",
    "#w = weights as series \n",
    "\n",
    "#Obtain the implied expected returns by reverse engineering the weights\n",
    "\n",
    "    ir = delta*sigma.dot(w).squeeze()+rf #Remove single-dimensional entries from the shape of an array.\n",
    "    ir.name = 'Implied Returns'\n",
    "    return ir \n",
    "\n",
    "\n",
    "def proportional_prior(sigma,tau,p): \n",
    "    #tau = scalar\n",
    "    #p = KXN matrix DF, a matrix representing prior uncertainties\n",
    "    helit_omega = p.dot(tau*sigma).dot(p.T)\n",
    "    return pd.DataFrame(np.diag(np.diag(helit_omega.values)), index=p.index, columns=p.index)\n",
    "\n",
    "\n",
    "def bl(w_prior, sigma_prior, p, q, omega=None, delta=2.5, tau=.02): \n",
    "    if omega is None : \n",
    "        omega = proportional_prior(sigma_prior, tau, p)\n",
    "    #how many asset do we have?\n",
    "    N=w_prior.shape[0]\n",
    "    #how many views ?\n",
    "    K=q.shape[0]\n",
    "    #First, reverse engineer the weigts to get pi\n",
    "    pi = implied_returns(delta, sigma_prior, w_prior)\n",
    "    #Adjust (scale) Sigma by the uncertainty factor\n",
    "    sigma_prior_scaled = tau * sigma_prior\n",
    "    \n",
    "    mu_bl = pi + sigma_prior_scaled.dot(p.T).dot(inv(p.dot(sigma_prior_scaled).dot(p.T)+omega).dot(q-p.dot(pi).values))\n",
    "    sigma_bl = sigma_prior + sigma_prior_scaled - sigma_prior_scaled.dot(p.T).dot(inv(p.dot(sigma_prior_scaled).dot(p.T)+ omega)).dot(p).dot(sigma_prior_scaled)\n",
    "        \n",
    "    return(mu_bl, sigma_bl)\n",
    "\n",
    "def inverse(d): \n",
    "    #Invert the dataframe by inverting the underlying matrix\n",
    "    return pd.DataFrame(inv(d.values), index = d.columns, columns = d.index)\n",
    "\n",
    "def w_msr(sigma, mu, scale = True):\n",
    "    w= inverse(sigma).dot(mu)\n",
    "    if scale : \n",
    "        w = w/sum(w) \n",
    "    return (w)"
   ]
  },
  {
   "cell_type": "markdown",
   "metadata": {},
   "source": [
    "## Implementation avec yahoo finance"
   ]
  },
  {
   "cell_type": "code",
   "execution_count": 17,
   "metadata": {},
   "outputs": [
    {
     "name": "stdout",
     "output_type": "stream",
     "text": [
      "[*********************100%***********************]  2 of 2 completed\n",
      "-----------------------Implied Prior Returns from Black Litterman Model\n",
      "AAPL    0.152430\n",
      "AMZN    0.128168\n",
      "Name: Implied Returns, dtype: float64\n",
      "-----------------------\n",
      "-----------------------Weights from Markowitz Optimisation with our absolute views as Expected Returns\n",
      "AAPL    103.3\n",
      "AMZN     -3.3\n",
      "dtype: float64\n",
      "-----------------------\n",
      "-----------------------Posterior Expected Returns (mu) from BL Model\n",
      "AAPL    0.114324\n",
      "AMZN    0.085386\n",
      "dtype: float64\n",
      "-----------------------\n",
      "-----------------------Posterior Covariance (sigma) from BL Model\n",
      "          AAPL      AMZN\n",
      "AAPL  0.068631  0.035369\n",
      "AMZN  0.035369  0.052723\n",
      "-----------------------\n",
      "-----------------------Weights from Optim with BL Model Inputs (both mu and sigma considering abs. views)\n",
      "AAPL    0.623438\n",
      "AMZN    0.376562\n",
      "dtype: float64\n",
      "-----------------------\n"
     ]
    }
   ],
   "source": [
    "tickers = ['AAPL', 'AMZN']\n",
    "startdate = '2019-01-01'\n",
    "enddate = '2020-01-01'\n",
    "prices = yf.download(tickers, start=startdate, end=enddate)['Adj Close']\n",
    "returns = prices.pct_change().dropna()\n",
    "covdf=pd.DataFrame(returns.cov())*252\n",
    "mkcap = data.get_quote_yahoo(tickers)['marketCap']\n",
    "mkcap = mkcap/mkcap.sum(axis=0) #Rapport des market cap\n",
    "\n",
    "#s=pd.DataFrame([[46.0, 1.06], [1.06, 5.33]], index=tickers, columns=tickers)*10E-4\n",
    "#pi = implied_returns(delta = 2.5, sigma=s , w=pd.Series([.44, .56], index= tickers))\n",
    "pi = implied_returns(delta = 2.5, sigma=covdf , w=mkcap)\n",
    "\n",
    "print('-----------------------Implied Prior Returns from Black Litterman Model')\n",
    "print(pi)\n",
    "print('-----------------------')\n",
    "\n",
    "mu_exp = pd.Series([.10,.05], index= tickers ) \n",
    "\n",
    "#Absolute views for optimal portfolio (markowitz)\n",
    "#we perform markowitz optim with these views as expected returns in the model. Ie, 10% for Apple and 5% for Amazon.\n",
    "\n",
    "MarkoWeights = np.round(w_msr(covdf,mu_exp)*100,2)\n",
    "\n",
    "print('-----------------------Weights from Markowitz Optimisation with our absolute views as Expected Returns')\n",
    "print(MarkoWeights)\n",
    "print('-----------------------')\n",
    "\n",
    "q=pd.Series({'AAPL':0.10, 'AMZN': 0.05}) #Absolute views for BL and matching matrix (p and q)\n",
    "p=pd.DataFrame([\n",
    "    {'AAPL':1, 'AMZN': 0},\n",
    "    {'AAPL':0, 'AMZN': 1}\n",
    "    ])\n",
    "bl_mu , bl_sigma = bl(w_prior=mkcap, sigma_prior=covdf, p=p, q=q, tau=0.01)\n",
    "\n",
    "#The posterior returns returned by the procedure are clearly weighted between that of:\n",
    "# -the equilibrium implied expected returns\n",
    "# -and that of the investor.\n",
    "\n",
    "print('-----------------------Posterior Expected Returns (mu) from BL Model')\n",
    "print(bl_mu)\n",
    "print('-----------------------')\n",
    "\n",
    "print('-----------------------Posterior Covariance (sigma) from BL Model')\n",
    "print(bl_sigma)\n",
    "print('-----------------------')\n",
    "\n",
    "#Much more reasonable weights\n",
    "BLWeights = w_msr(bl_sigma,bl_mu)\n",
    "print('-----------------------Weights from Optim with BL Model Inputs (both mu and sigma considering abs. views)')\n",
    "print(BLWeights)\n",
    "print('-----------------------')"
   ]
  },
  {
   "cell_type": "code",
   "execution_count": 18,
   "metadata": {},
   "outputs": [
    {
     "name": "stdout",
     "output_type": "stream",
     "text": [
      "-----------------------Posterior Expected Returns (mu) from BL Model\n",
      "AAPL    0.151029\n",
      "AMZN    0.128898\n",
      "dtype: float64\n",
      "-----------------------\n",
      "-----------------------Difference between Implied Prior Returns:\n",
      "0.024261704873173973\n",
      "-----------------------\n",
      "-----------------------Difference between BL Expected Returns (mu):\n",
      "0.022130852436586967\n",
      "-----------------------\n",
      "-----------------------New weights from Optim relative views:\n",
      "AAPL    0.494272\n",
      "AMZN    0.505728\n",
      "dtype: float64\n",
      "-----------------------\n"
     ]
    }
   ],
   "source": [
    "q=pd.Series([0.02]) #Relative views\n",
    "p = pd.DataFrame([ #Intel outperforms pfizer by 2%\n",
    "    {'AAPL':+1, 'AMZN': -1}\n",
    "])\n",
    "bl_mu , bl_sigma = bl(w_prior=mkcap, sigma_prior=covdf, p=p, q=q)\n",
    "\n",
    "print('-----------------------Posterior Expected Returns (mu) from BL Model')\n",
    "print(bl_mu)\n",
    "print('-----------------------')\n",
    "\n",
    "#Black Litterman implied Mu\n",
    "#again, weights are blended between cap-weight implied weights AND\n",
    "#the investor view\n",
    "\n",
    "diff1 = pi[0]-pi[1] \n",
    "print('-----------------------Difference between Implied Prior Returns:')\n",
    "print(diff1)\n",
    "print('-----------------------')\n",
    "#outperformance of intel in the implied returns\n",
    "\n",
    "diff2 = bl_mu[0]-bl_mu[1]\n",
    "print('-----------------------Difference between BL Expected Returns (mu):')\n",
    "print(diff2)\n",
    "print('-----------------------')\n",
    "\n",
    "views = w_msr(bl_sigma,bl_mu) #New weights including relative views.\n",
    "print('-----------------------New weights from Optim relative views:')\n",
    "print(views)\n",
    "print('-----------------------')"
   ]
  },
  {
   "cell_type": "code",
   "execution_count": 19,
   "metadata": {},
   "outputs": [
    {
     "data": {
      "text/html": [
       "<div>\n",
       "<style scoped>\n",
       "    .dataframe tbody tr th:only-of-type {\n",
       "        vertical-align: middle;\n",
       "    }\n",
       "\n",
       "    .dataframe tbody tr th {\n",
       "        vertical-align: top;\n",
       "    }\n",
       "\n",
       "    .dataframe thead th {\n",
       "        text-align: right;\n",
       "    }\n",
       "</style>\n",
       "<table border=\"1\" class=\"dataframe\">\n",
       "  <thead>\n",
       "    <tr style=\"text-align: right;\">\n",
       "      <th></th>\n",
       "      <th>AAPL</th>\n",
       "      <th>AMZN</th>\n",
       "    </tr>\n",
       "  </thead>\n",
       "  <tbody>\n",
       "    <tr>\n",
       "      <th>AAPL</th>\n",
       "      <td>0.069470</td>\n",
       "      <td>0.036091</td>\n",
       "    </tr>\n",
       "    <tr>\n",
       "      <th>AMZN</th>\n",
       "      <td>0.036091</td>\n",
       "      <td>0.053477</td>\n",
       "    </tr>\n",
       "  </tbody>\n",
       "</table>\n",
       "</div>"
      ],
      "text/plain": [
       "          AAPL      AMZN\n",
       "AAPL  0.069470  0.036091\n",
       "AMZN  0.036091  0.053477"
      ]
     },
     "execution_count": 19,
     "metadata": {},
     "output_type": "execute_result"
    }
   ],
   "source": [
    "bl_sigma"
   ]
  },
  {
   "cell_type": "markdown",
   "metadata": {},
   "source": [
    "## The He litterman paper "
   ]
  },
  {
   "cell_type": "code",
   "execution_count": 7,
   "metadata": {},
   "outputs": [
    {
     "data": {
      "text/plain": [
       "AU    20.9\n",
       "CA     6.3\n",
       "FR    -4.4\n",
       "DE    26.3\n",
       "JP    18.6\n",
       "UK    -0.3\n",
       "US    68.7\n",
       "dtype: float64"
      ]
     },
     "execution_count": 7,
     "metadata": {},
     "output_type": "execute_result"
    }
   ],
   "source": [
    "countries = ['AU', 'CA', 'FR', 'DE', 'JP', 'UK','US']\n",
    "\n",
    "#correlation matrix\n",
    "rho =pd.DataFrame([\n",
    "    [1.000,0.488,0.478,0.515,0.439,0.512,0.491],\n",
    "    [0.488,1.000,0.664,0.655,0.310,0.608,0.779],\n",
    "    [0.478,0.664,1.000,0.861,0.355,0.783,0.668],\n",
    "    [0.515,0.655,0.861,1.000,0.354,0.777,0.653],\n",
    "    [0.439,0.310,0.355,0.354,1.000,0.405,0.306],\n",
    "    [0.512,0.608,0.783,0.777,0.405,1.000,0.652],\n",
    "    [0.491,0.779,0.668,0.653,0.306,0.652,1.000]\n",
    "], index= countries, columns=countries)\n",
    "vols= pd.DataFrame([0.160,0.203,0.248,0.271,0.210,0.200,0.187], index= countries, columns=[\"Vols\"])\n",
    "w_eq = pd.DataFrame([0.016,0.022,0.052,0.055,0.116,0.124,0.615], index= countries, columns=[\"CapWeight\"])\n",
    "sigma_prior = vols.dot(vols.T)*rho #Covariance matrix from correlation\n",
    "pi = implied_returns(delta=2.5, sigma=sigma_prior, w=w_eq)\n",
    "(pi*100).round(1)\n",
    "# Views germany vs Europe\n",
    "#Germany will outperform other European Equities by 5%\n",
    "q=pd.Series([0.05])\n",
    "#one single view, array of zeros and overwrite the specific view\n",
    "p=pd.DataFrame([0.]*len(countries), index=countries).T\n",
    "#relative market cap\n",
    "w_fr = w_eq.loc[\"FR\"]/(w_eq.loc[\"FR\"]+w_eq.loc[\"UK\"])\n",
    "w_uk =  w_eq.loc[\"UK\"]/(w_eq.loc[\"FR\"]+w_eq.loc[\"UK\"])\n",
    "p.iloc[0]['DE'] = 1.\n",
    "p.iloc[0]['FR'] = -w_fr\n",
    "p.iloc[0]['UK'] = -w_uk\n",
    "#P matrix is telling you how the view is affecting the asset:\n",
    "(p*100).round(1)\n",
    "\n",
    "tau = 0.05\n",
    "delta = 2.5\n",
    "\n",
    "bl_mu , bl_sigma = bl(w_eq, sigma_prior, p, q, tau=tau)\n",
    "(bl_mu*100).round(1)\n",
    "\n",
    "bl_mu.sum()\n",
    "\n",
    "\n",
    "def w_star(delta, sigma, mu): \n",
    "    return( inverse(sigma).dot(mu))/delta\n",
    "\n",
    "w_star = w_star(delta=2.5, sigma=bl_sigma, mu=bl_mu)\n",
    "(w_star*100).round(1)\n",
    "\n",
    "w_star.sum()\n",
    "\n",
    "#Spot the difference between posterior and prior weights\n",
    "w_eq = w_msr(delta*sigma_prior, pi, scale=False)\n",
    "w_eq\n",
    "np.round(w_star-w_eq/(1+tau),3)*100\n",
    "\n",
    "(w_star*100).round(1)"
   ]
  },
  {
   "cell_type": "code",
   "execution_count": null,
   "metadata": {},
   "outputs": [],
   "source": []
  }
 ],
 "metadata": {
  "kernelspec": {
   "display_name": "Python 3",
   "language": "python",
   "name": "python3"
  },
  "language_info": {
   "codemirror_mode": {
    "name": "ipython",
    "version": 3
   },
   "file_extension": ".py",
   "mimetype": "text/x-python",
   "name": "python",
   "nbconvert_exporter": "python",
   "pygments_lexer": "ipython3",
   "version": "3.7.6"
  }
 },
 "nbformat": 4,
 "nbformat_minor": 4
}
