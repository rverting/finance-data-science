{
 "cells": [
  {
   "cell_type": "markdown",
   "metadata": {},
   "source": [
    "Alpha (α), Beta (ß), Gamma (Γ), Delta (δ), Epsilon (ε), Theta (Θ), Omega (Ω), Pi (π), Mu (µ), Sigma (Σ, σ), Tau (τ), Phi (Φ, φ). Dérivée: ∂"
   ]
  },
  {
   "cell_type": "markdown",
   "metadata": {},
   "source": [
    "# Machine learning: concepts, étapes d'un projet et exemples"
   ]
  },
  {
   "cell_type": "markdown",
   "metadata": {},
   "source": [
    "1. importer un Dataset (x, y) qui contient une target variable y ainsi qu'une ou plusieurs feature variables x.\n",
    "2. Développer un modèle avec des paramètres aléatoires. C'est comme développer une fonction mathématique qui prend les variables x pour tenter de prédire la variable y.\n",
    "3. Développer une Fonction Coût, qui mesure l'ensemble des erreurs entre notre modèle et le Dataset (x, y).\n",
    "4. Développer un algorithme de minimisation de la fonction coût, qui trouve quels sont les paramètres optimaux pour notre modèle."
   ]
  },
  {
   "cell_type": "markdown",
   "metadata": {},
   "source": [
    "# Linear Regression"
   ]
  },
  {
   "cell_type": "markdown",
   "metadata": {},
   "source": [
    "Fonction coût :\n",
    "J(a,b) = 1/2m  i∑m (f(x(i) - y(i))2 (MSE)\n",
    "Cette fonction de coût étant une somme de carrés, elle ressemblera à une fonction carré (allure parabolique).\n",
    "On cherche ensuite à minimiser cette fonction. \n",
    "\n",
    "Deux manières:\n",
    "\n",
    "MCO = trouver la tangeante horizontale (ie, trouve la dérivée DJ/Dx = 0). Cela nécessite une inversion de matrice, qui peut être très compliquée si la matrice est très grande\n",
    "\n",
    "Descente de gradient, je prends un point sur la courbe puis par petite itération, j'essaie de faire tendre ma dérivée vers 0, ie de trouver la tangente horizontale. "
   ]
  },
  {
   "cell_type": "markdown",
   "metadata": {},
   "source": [
    "## Descente de gradient "
   ]
  },
  {
   "cell_type": "markdown",
   "metadata": {},
   "source": [
    "-> Sert à obtenir le minimum d'une fonction convexe (allure parabolique- ie vallée). Si la fonctin n'est pas convexe, elle peut avoir des minimums locaux.\n",
    "\n",
    "\"On est en haut d'une vallée, on cherche l'angle le plus pentu puis on avance tout droit sur la distance. Une fois arrivé, on regarde de nouveau autour de nous, puis on identifie l'angle le plus pentu, et on avance de nouveau tout droit sur la distance\". \n",
    "\n",
    "Algorithme itératif de cette formule:\n",
    "a(i+1) = a(i) - α (∂ J(ai)/ ∂ a)\n",
    "\n",
    "L'hyperparamètre α (le learning rate) est toujours positif.\n",
    "\n",
    "Si l'on se retrouve sur la partie gauche de la courbe convexe, la dérivée est négative. \n",
    "\n",
    "On se place sur la courbe d'une fonction convexe et on avance par pas en recalculant la dérivée à chaque pas. Dans l'équation, on a donc une dérivée négative et un α positif donc le produit est négatif. A chaque Itération, on a donc a1 > aO et a1-a0 = α(∂ J(ai)/ ∂ a).\n",
    "\n",
    "Dans le cas ou a0 est sur la partie droite de la courbe convexe, c'est l'inverse, l'itération nous donne un a1<a0 car la dérivée est positive et α est positif également.\n",
    "\n",
    "Dans tous les cas, l'itération converge vers une dérivée nulle, la tangeante horizontale de la courbe convexe. \n",
    "\n",
    "Le choix de α est très important car il est possible que l'itération oscille toujours autour du minimum sans le trouver. Si il est trop faible, on risque de mettre trop longtemps à trouver le minimum. \n",
    "\n",
    "Il faut enfin calculer les dérivés:\n",
    "\n",
    "Pour rappel, la fonction coût : J(a,b) = 1/2m i∑m (f(x(i) - y(i))2\n",
    "RAPPEL dérivés: (g ° f)' = f' * g'(f)  \n",
    "\n",
    "(∂ J/ ∂ a) = 1/m ∑ x(ax + b - y)\n",
    "(∂ J/ ∂ b) = 1/m ∑ 1(ax + b - y) = 1/m ∑ (ax + b - y)"
   ]
  },
  {
   "cell_type": "markdown",
   "metadata": {},
   "source": [
    "## Forme Matricielle"
   ]
  },
  {
   "cell_type": "markdown",
   "metadata": {},
   "source": [
    "f(xi) = a(xi)+b\n",
    "\n",
    "n = nombre de variable, ici 1, cest x\n",
    "\n",
    "m = nombre de valeur dans notre dataset\n",
    "\n",
    "b -> biais.  \n",
    "\n",
    "Vecteur f(xi) = X produitmat Θ = X.Θ\n",
    "\n",
    "Θ ((n+1) * 1)-> vecteur qui contient a et b \n",
    "\n",
    "X (dim: m * (n+1))-> matrice qui contient tous les éléments \n",
    "\n",
    "x(i) jusque x(n) et une colonne remplie de 1.\n",
    "\n",
    "Quand on fait le produit mat on a bien =\n",
    "f((x1) = X\n",
    "\n",
    "----------------------Fonction coût:\n",
    "\n",
    "J(a,b) = 1/2m i∑m (ax(i)+b - y(i))2 \n",
    "\n",
    "On place tous les y(i) dans un vecteur Y\n",
    "\n",
    "J(a,b) = 1/2m i∑m (X.Θ - Y)2\n",
    "\n",
    "X.Θ - Y nous donne une matrice m * 1, on applique le carré sur chaque élément, puis on somme les éléments puis on multiplie le résultat par 1/2m et on a bien un résultat 1 * 1.\n",
    "\n",
    "----------------------Gradient Forme Matricielle:\n",
    "\n",
    "Gradient-forme matricielle:\n",
    "(∂ J(Θ)/ ∂ Θ) = 1/m X.T (X.Θ - Y)\n",
    "\n",
    "X -> dimension m * (n+1) car on a une colonne de 1\n",
    "\n",
    "X.T -> dimension (n+1) * m qui permet d'obtenir les différents gradients. \n",
    "\n",
    "Quand on incorpore dans la déscente de gradient:\n",
    "\n",
    "Θ = Θ - α (∂J)/(∂Θ)"
   ]
  },
  {
   "cell_type": "markdown",
   "metadata": {},
   "source": [
    "Les régressions polynomiales ne sont alors plus un problème car on a écrit tout ça en forme matricielle. \n",
    "\n",
    "Pour ax2+bx+c on a toujours F = XΘ\n",
    "\n",
    "Θ = vecteur avec a,b,c\n",
    "\n",
    "X -> dimension: m * (n+1)\n",
    "\n",
    "Exemple: la première de X: x(1)2 x(1) 1\n",
    "\n",
    "Donc quand il y aura le produit matriciel avec Θ:\n",
    "\n",
    "On aura: f(x1) = ax(1)2 + bx(1) + 1*c = ax(1)2 + bx(1) + c\n"
   ]
  },
  {
   "cell_type": "markdown",
   "metadata": {},
   "source": [
    "## Linear Regression Numpy"
   ]
  },
  {
   "cell_type": "code",
   "execution_count": 51,
   "metadata": {},
   "outputs": [],
   "source": [
    "import numpy as np\n",
    "from sklearn.datasets import make_regression\n",
    "import matplotlib.pyplot as plt"
   ]
  },
  {
   "cell_type": "code",
   "execution_count": 54,
   "metadata": {},
   "outputs": [],
   "source": [
    "x, y = make_regression(n_samples=100, n_features=1, noise=10)"
   ]
  },
  {
   "cell_type": "code",
   "execution_count": 55,
   "metadata": {},
   "outputs": [
    {
     "data": {
      "text/plain": [
       "<matplotlib.collections.PathCollection at 0x1a1ae4c1d0>"
      ]
     },
     "execution_count": 55,
     "metadata": {},
     "output_type": "execute_result"
    },
    {
     "data": {
      "image/png": "[encoded data removed]",
      "text/plain": [
       "<Figure size 432x288 with 1 Axes>"
      ]
     },
     "metadata": {
      "needs_background": "light"
     },
     "output_type": "display_data"
    }
   ],
   "source": [
    "plt.scatter(x,y)"
   ]
  },
  {
   "cell_type": "code",
   "execution_count": 68,
   "metadata": {},
   "outputs": [
    {
     "name": "stdout",
     "output_type": "stream",
     "text": [
      "xshape:  (100, 1)\n",
      "yshape:  (100, 1)\n",
      "yshape after reshape:  (100, 1)\n",
      "shape after dot: (100, 1)\n",
      "before optimization:\n"
     ]
    },
    {
     "data": {
      "text/plain": [
       "[<matplotlib.lines.Line2D at 0x1a1abce050>]"
      ]
     },
     "execution_count": 68,
     "metadata": {},
     "output_type": "execute_result"
    },
    {
     "data": {
      "image/png": "[encoded data removed]",
      "text/plain": [
       "<Figure size 432x288 with 1 Axes>"
      ]
     },
     "metadata": {
      "needs_background": "light"
     },
     "output_type": "display_data"
    }
   ],
   "source": [
    "print('xshape: ', x.shape)\n",
    "print('yshape: ', y.shape)\n",
    "y=y.reshape(100,1)\n",
    "print('yshape after reshape: ', y.shape)\n",
    "\n",
    "X = np.hstack((x, np.ones(x.shape)))\n",
    "theta = np.random.randn(2,1) #j'intialise avec des valeurs aléatoires un vecteur de dimension (2, 1) car j'ai a et b à trouver\n",
    "#c'est ce théta qu'on cherche à trouver, ie les paramètres du modèle\n",
    "\n",
    "#---------MODEL\n",
    "def model(X, theta):\n",
    "    return X.dot(theta)\n",
    "\n",
    "print('shape after dot:', model(X, theta).shape)\n",
    "print('before optimization:')\n",
    "plt.scatter(x,y)\n",
    "plt.plot(x, model(X, theta), c='r')\n"
   ]
  },
  {
   "cell_type": "code",
   "execution_count": 69,
   "metadata": {},
   "outputs": [
    {
     "data": {
      "text/plain": [
       "470.7815322184963"
      ]
     },
     "execution_count": 69,
     "metadata": {},
     "output_type": "execute_result"
    }
   ],
   "source": [
    "def cost_function(X, y, theta):\n",
    "    m = len(y)\n",
    "    return 1/(2*m) * np.sum((model(X, theta)- y)**2)\n",
    "cost_function(X,y, theta)"
   ]
  },
  {
   "cell_type": "code",
   "execution_count": 80,
   "metadata": {},
   "outputs": [],
   "source": [
    "def grad(X, y, theta):\n",
    "    m = len(y)\n",
    "    return 1/m * X.T.dot(model(X, theta) -y)\n",
    "\n",
    "#descente de gradient\n",
    "def gradient_descent(X, y, theta, learning_rate, n_iterations):\n",
    "    cost_history = np.zeros(n_iterations)\n",
    "    for i in range(0, n_iterations):\n",
    "        theta = theta - learning_rate * grad(X, y, theta)\n",
    "        cost_history[i] = cost_function(X, y, theta)\n",
    "    return theta, cost_history\n",
    "\n",
    "theta_final, cost_histo = gradient_descent(X, y, theta, 0.01, 1000)"
   ]
  },
  {
   "cell_type": "code",
   "execution_count": 79,
   "metadata": {},
   "outputs": [
    {
     "data": {
      "text/plain": [
       "[<matplotlib.lines.Line2D at 0x1a1ce99110>]"
      ]
     },
     "execution_count": 79,
     "metadata": {},
     "output_type": "execute_result"
    },
    {
     "data": {
      "image/png": "[encoded data removed]",
      "text/plain": [
       "<Figure size 432x288 with 1 Axes>"
      ]
     },
     "metadata": {
      "needs_background": "light"
     },
     "output_type": "display_data"
    }
   ],
   "source": [
    "predictions = model(X, theta_final)\n",
    "plt.scatter(x,y)\n",
    "plt.plot(x, predictions, c='r')"
   ]
  },
  {
   "cell_type": "code",
   "execution_count": 81,
   "metadata": {},
   "outputs": [
    {
     "data": {
      "text/plain": [
       "[<matplotlib.lines.Line2D at 0x1a1cecb1d0>]"
      ]
     },
     "execution_count": 81,
     "metadata": {},
     "output_type": "execute_result"
    },
    {
     "data": {
      "image/png": "[encoded data removed]",
      "text/plain": [
       "<Figure size 432x288 with 1 Axes>"
      ]
     },
     "metadata": {
      "needs_background": "light"
     },
     "output_type": "display_data"
    }
   ],
   "source": [
    "plt.plot(range(1000), cost_histo) #on voit comment la machine minimise\n",
    "#la fonction coût avec l'algo de descente de gradient"
   ]
  },
  {
   "cell_type": "code",
   "execution_count": 82,
   "metadata": {},
   "outputs": [
    {
     "data": {
      "text/plain": [
       "0.892626271455736"
      ]
     },
     "execution_count": 82,
     "metadata": {},
     "output_type": "execute_result"
    }
   ],
   "source": [
    "#R2\n",
    "def coeff_determination(y, pred):\n",
    "    u = ((y-pred)**2).sum()\n",
    "    v = ((y-y.mean())**2).sum()\n",
    "    return 1 - u/v\n",
    "coeff_determination(y, predictions)"
   ]
  },
  {
   "cell_type": "markdown",
   "metadata": {},
   "source": [
    "## Régression Polynomiale Multiple avec numpy"
   ]
  },
  {
   "cell_type": "code",
   "execution_count": 95,
   "metadata": {},
   "outputs": [
    {
     "name": "stdout",
     "output_type": "stream",
     "text": [
      "xshape:  (100, 1)\n",
      "yshape:  (100,)\n",
      "yshape after reshape:  (100, 1)\n",
      "shape after dot: (100, 1)\n",
      "before optimization:\n"
     ]
    },
    {
     "data": {
      "image/png": "[encoded data removed]",
      "text/plain": [
       "<Figure size 432x288 with 1 Axes>"
      ]
     },
     "metadata": {
      "needs_background": "light"
     },
     "output_type": "display_data"
    },
    {
     "data": {
      "image/png": "[encoded data removed]",
      "text/plain": [
       "<Figure size 432x288 with 1 Axes>"
      ]
     },
     "metadata": {
      "needs_background": "light"
     },
     "output_type": "display_data"
    },
    {
     "data": {
      "image/png": "[encoded data removed]",
      "text/plain": [
       "<Figure size 432x288 with 1 Axes>"
      ]
     },
     "metadata": {
      "needs_background": "light"
     },
     "output_type": "display_data"
    },
    {
     "data": {
      "text/plain": [
       "0.9793953113492835"
      ]
     },
     "execution_count": 95,
     "metadata": {},
     "output_type": "execute_result"
    }
   ],
   "source": [
    "#La seule chose qui change ici c'est le rajout dans X d'une colonne x**2\n",
    "#et la redimension de theta en (3,1) plutot que (2,1)\n",
    "\n",
    "import numpy as np\n",
    "from sklearn.datasets import make_regression\n",
    "import matplotlib.pyplot as plt\n",
    "x, y = make_regression(n_samples=100, n_features=1, noise=10)\n",
    "y = y + abs(y/2)\n",
    "plt.scatter(x,y)\n",
    "\n",
    "print('xshape: ', x.shape)\n",
    "print('yshape: ', y.shape)\n",
    "y=y.reshape(100,1)\n",
    "print('yshape after reshape: ', y.shape)\n",
    "\n",
    "X = np.hstack((x, np.ones(x.shape)))\n",
    "X = np.hstack((x**2, X))\n",
    "theta = np.random.randn(3,1) #j'intialise avec des valeurs aléatoires un vecteur de dimension (2, 1) car j'ai a et b à trouver\n",
    "#c'est ce théta qu'on cherche à trouver, ie les paramètres du modèle\n",
    "\n",
    "#---------MODEL\n",
    "def model(X, theta):\n",
    "    return X.dot(theta)\n",
    "\n",
    "print('shape after dot:', model(X, theta).shape)\n",
    "print('before optimization:')\n",
    "plt.scatter(x,y)\n",
    "plt.scatter(x, model(X, theta), c='b')\n",
    "plt.show()\n",
    "\n",
    "def cost_function(X, y, theta):\n",
    "    m = len(y)\n",
    "    return 1/(2*m) * np.sum((model(X, theta)- y)**2)\n",
    "cost_function(X,y, theta)\n",
    "\n",
    "def grad(X, y, theta):\n",
    "    m = len(y)\n",
    "    return 1/m * X.T.dot(model(X, theta) -y)\n",
    "\n",
    "#descente de gradient\n",
    "def gradient_descent(X, y, theta, learning_rate, n_iterations):\n",
    "    cost_history = np.zeros(n_iterations)\n",
    "    for i in range(0, n_iterations):\n",
    "        theta = theta - learning_rate * grad(X, y, theta)\n",
    "        cost_history[i] = cost_function(X, y, theta)\n",
    "    return theta, cost_history\n",
    "\n",
    "theta_final, cost_histo = gradient_descent(X, y, theta, 0.01, 1000)\n",
    "\n",
    "predictions = model(X, theta_final)\n",
    "\n",
    "plt.scatter(x[:,0],y)\n",
    "plt.scatter(x[:,0], predictions, c='r')\n",
    "plt.show()\n",
    "\n",
    "\n",
    "plt.plot(range(1000), cost_histo) #on voit comment la machine minimise\n",
    "#la fonction coût avec l'algo de descente de gradient\n",
    "plt.show()\n",
    "#R2\n",
    "def coeff_determination(y, pred):\n",
    "    u = ((y-pred)**2).sum()\n",
    "    v = ((y-y.mean())**2).sum()\n",
    "    return 1 - u/v\n",
    "\n",
    "coeff_determination(y, predictions)"
   ]
  },
  {
   "cell_type": "markdown",
   "metadata": {},
   "source": [
    "## Régression multiple avec numpy"
   ]
  },
  {
   "cell_type": "code",
   "execution_count": 105,
   "metadata": {},
   "outputs": [
    {
     "name": "stdout",
     "output_type": "stream",
     "text": [
      "xshape:  (100, 2)\n",
      "yshape:  (100,)\n",
      "yshape after reshape:  (100, 1)\n",
      "shape after dot: (100, 1)\n",
      "before optimization:\n"
     ]
    },
    {
     "data": {
      "image/png": "[encoded data removed]",
      "text/plain": [
       "<Figure size 432x288 with 1 Axes>"
      ]
     },
     "metadata": {
      "needs_background": "light"
     },
     "output_type": "display_data"
    },
    {
     "name": "stdout",
     "output_type": "stream",
     "text": [
      "after optimization:\n",
      "y en fonction de x1\n"
     ]
    },
    {
     "data": {
      "image/png": "[encoded data removed]",
      "text/plain": [
       "<Figure size 432x288 with 1 Axes>"
      ]
     },
     "metadata": {
      "needs_background": "light"
     },
     "output_type": "display_data"
    },
    {
     "name": "stdout",
     "output_type": "stream",
     "text": [
      "y en fonction de x2\n"
     ]
    },
    {
     "data": {
      "image/png": "[encoded data removed]",
      "text/plain": [
       "<Figure size 432x288 with 1 Axes>"
      ]
     },
     "metadata": {
      "needs_background": "light"
     },
     "output_type": "display_data"
    },
    {
     "data": {
      "image/png": "[encoded data removed]",
      "text/plain": [
       "<Figure size 432x288 with 1 Axes>"
      ]
     },
     "metadata": {
      "needs_background": "light"
     },
     "output_type": "display_data"
    },
    {
     "data": {
      "text/plain": [
       "0.8164529935999151"
      ]
     },
     "execution_count": 105,
     "metadata": {},
     "output_type": "execute_result"
    }
   ],
   "source": [
    "#On passe n_features à 2\n",
    "#x devient une matrice et non plus un vecteur.\n",
    "import numpy as np\n",
    "from sklearn.datasets import make_regression\n",
    "import matplotlib.pyplot as plt\n",
    "x, y = make_regression(n_samples=100, n_features=2, noise=10)\n",
    "plt.scatter(x[:,0], y)\n",
    "\n",
    "print('xshape: ', x.shape)\n",
    "print('yshape: ', y.shape)\n",
    "y=y.reshape(100,1)\n",
    "print('yshape after reshape: ', y.shape)\n",
    "\n",
    "X = np.hstack((x, np.ones((x.shape[0],1))))#on veut qu'une seule colonne de 1\n",
    "#X = np.hstack((x**2, X))\n",
    "theta = np.random.randn(3,1) #j'intialise avec des valeurs aléatoires un vecteur de dimension (2, 1) car j'ai a et b à trouver\n",
    "#c'est ce théta qu'on cherche à trouver, ie les paramètres du modèle\n",
    " \n",
    "#---------MODEL\n",
    "def model(X, theta):\n",
    "    return X.dot(theta)\n",
    "\n",
    "print('shape after dot:', model(X, theta).shape)\n",
    "print('before optimization:')\n",
    "plt.scatter(x[:,0],y)\n",
    "plt.scatter(x[:,0], model(X, theta), c='b')\n",
    "plt.show()\n",
    "\n",
    "def cost_function(X, y, theta):\n",
    "    m = len(y)\n",
    "    return 1/(2*m) * np.sum((model(X, theta)- y)**2)\n",
    "cost_function(X,y, theta)\n",
    "\n",
    "def grad(X, y, theta):\n",
    "    m = len(y)\n",
    "    return 1/m * X.T.dot(model(X, theta) -y)\n",
    "\n",
    "#descente de gradient\n",
    "def gradient_descent(X, y, theta, learning_rate, n_iterations):\n",
    "    cost_history = np.zeros(n_iterations)\n",
    "    for i in range(0, n_iterations):\n",
    "        theta = theta - learning_rate * grad(X, y, theta)\n",
    "        cost_history[i] = cost_function(X, y, theta)\n",
    "    return theta, cost_history\n",
    "\n",
    "theta_final, cost_histo = gradient_descent(X, y, theta, 0.01, 1000)\n",
    "\n",
    "predictions = model(X, theta_final)\n",
    "print('after optimization:')\n",
    "print('y en fonction de x1')\n",
    "plt.scatter(x[:,0],y)\n",
    "plt.scatter(x[:,0], predictions, c='r')\n",
    "plt.show()\n",
    "\n",
    "print('y en fonction de x2')\n",
    "plt.scatter(x[:,1],y)\n",
    "plt.scatter(x[:,1], predictions, c='r')\n",
    "plt.show()\n",
    "\n",
    "\n",
    "plt.plot(range(1000), cost_histo) #on voit comment la machine minimise\n",
    "#la fonction coût avec l'algo de descente de gradient\n",
    "plt.show()\n",
    "#R2\n",
    "def coeff_determination(y, pred):\n",
    "    u = ((y-pred)**2).sum()\n",
    "    v = ((y-y.mean())**2).sum()\n",
    "    return 1 - u/v\n",
    "\n",
    "coeff_determination(y, predictions)"
   ]
  },
  {
   "cell_type": "markdown",
   "metadata": {},
   "source": [
    "# SKlearn - ML"
   ]
  },
  {
   "cell_type": "markdown",
   "metadata": {},
   "source": [
    "On sélectionne un estimateur et on précise ses hyperparamètres. Fit / Score / Predict. Carte des modèles : https://scikit-learn.org/stable/tutorial/machine_learning_map/index.html"
   ]
  },
  {
   "cell_type": "code",
   "execution_count": 8,
   "metadata": {},
   "outputs": [],
   "source": [
    "import numpy as np \n",
    "import matplotlib.pyplot as plt"
   ]
  },
  {
   "cell_type": "code",
   "execution_count": 9,
   "metadata": {},
   "outputs": [
    {
     "data": {
      "text/plain": [
       "<matplotlib.collections.PathCollection at 0x1a1d966610>"
      ]
     },
     "execution_count": 9,
     "metadata": {},
     "output_type": "execute_result"
    },
    {
     "data": {
      "image/png": "[encoded data removed]",
      "text/plain": [
       "<Figure size 432x288 with 1 Axes>"
      ]
     },
     "metadata": {
      "needs_background": "light"
     },
     "output_type": "display_data"
    }
   ],
   "source": [
    "np.random.seed(0)\n",
    "m=100 #100 samples\n",
    "X =np.linspace(0,10,m).reshape(m,1)\n",
    "y = X + np.random.randn(m,1)\n",
    "plt.scatter(X,y)"
   ]
  },
  {
   "cell_type": "code",
   "execution_count": 10,
   "metadata": {},
   "outputs": [
    {
     "data": {
      "text/plain": [
       "[<matplotlib.lines.Line2D at 0x11ae78e90>]"
      ]
     },
     "execution_count": 10,
     "metadata": {},
     "output_type": "execute_result"
    },
    {
     "data": {
      "image/png": "[encoded data removed]",
      "text/plain": [
       "<Figure size 432x288 with 1 Axes>"
      ]
     },
     "metadata": {
      "needs_background": "light"
     },
     "output_type": "display_data"
    }
   ],
   "source": [
    "from sklearn.linear_model import LinearRegression\n",
    "model  = LinearRegression() #Pas d'hyperparamètres ici\n",
    "model.fit(X,y)\n",
    "model.score(X,y) #Le résultat ici est le coefficient de détermination, donc le R2\n",
    "predictions = model.predict(X)\n",
    "plt.scatter(X,y)\n",
    "plt.plot(X, predictions,c='r')"
   ]
  },
  {
   "cell_type": "code",
   "execution_count": 4,
   "metadata": {},
   "outputs": [
    {
     "data": {
      "text/plain": [
       "<matplotlib.collections.PathCollection at 0x1a1d7b1d10>"
      ]
     },
     "execution_count": 4,
     "metadata": {},
     "output_type": "execute_result"
    },
    {
     "data": {
      "image/png": "[encoded data removed]",
      "text/plain": [
       "<Figure size 432x288 with 1 Axes>"
      ]
     },
     "metadata": {
      "needs_background": "light"
     },
     "output_type": "display_data"
    }
   ],
   "source": [
    "np.random.seed(0)\n",
    "m=100 #100 samples\n",
    "X =np.linspace(0,10,m).reshape(m,1)\n",
    "y = X**2 + np.random.randn(m,1)\n",
    "plt.scatter(X,y)"
   ]
  },
  {
   "cell_type": "code",
   "execution_count": 5,
   "metadata": {},
   "outputs": [
    {
     "name": "stderr",
     "output_type": "stream",
     "text": [
      "/Users/Maxime/anaconda3/lib/python3.7/site-packages/sklearn/utils/validation.py:760: DataConversionWarning: A column-vector y was passed when a 1d array was expected. Please change the shape of y to (n_samples, ), for example using ravel().\n",
      "  y = column_or_1d(y, warn=True)\n"
     ]
    },
    {
     "data": {
      "text/plain": [
       "[<matplotlib.lines.Line2D at 0x10ce77d90>]"
      ]
     },
     "execution_count": 5,
     "metadata": {},
     "output_type": "execute_result"
    },
    {
     "data": {
      "image/png": "[encoded data removed]",
      "text/plain": [
       "<Figure size 432x288 with 1 Axes>"
      ]
     },
     "metadata": {
      "needs_background": "light"
     },
     "output_type": "display_data"
    }
   ],
   "source": [
    "from sklearn.svm import SVR\n",
    "model  = SVR(C=100) #Pas d'hyperparamètres ici\n",
    "model.fit(X,y)\n",
    "model.score(X,y) #Le résultat ici est le coefficient de détermination, donc le R2\n",
    "predictions = model.predict(X)\n",
    "plt.scatter(X,y)\n",
    "plt.plot(X, predictions, c='r')"
   ]
  },
  {
   "cell_type": "markdown",
   "metadata": {},
   "source": [
    "## Make_Scorer"
   ]
  },
  {
   "cell_type": "markdown",
   "metadata": {},
   "source": [
    "Développer ses propres métriques. On peut dvp ses propres modèles mais il faut la transformer avec make_scorer pour pouvoir l'utiliser dans gridsearch ou crossvalidation."
   ]
  },
  {
   "cell_type": "code",
   "execution_count": 11,
   "metadata": {},
   "outputs": [
    {
     "data": {
      "text/plain": [
       "0.64"
      ]
     },
     "execution_count": 11,
     "metadata": {},
     "output_type": "execute_result"
    }
   ],
   "source": [
    "def custom_metric(y, y_pred):\n",
    "    return np.sum((y_pred < y + y*0.2) & (y_pred > y - y*0.2))/y.size\n",
    "custom_metric(y, predictions)"
   ]
  },
  {
   "cell_type": "code",
   "execution_count": 12,
   "metadata": {},
   "outputs": [],
   "source": [
    "from sklearn.metrics import make_scorer"
   ]
  },
  {
   "cell_type": "code",
   "execution_count": 13,
   "metadata": {},
   "outputs": [],
   "source": [
    "custom_score = make_scorer(custom_metric, greater_is_better=True)"
   ]
  },
  {
   "cell_type": "code",
   "execution_count": 15,
   "metadata": {},
   "outputs": [
    {
     "data": {
      "text/plain": [
       "array([0.11764706, 0.66666667, 0.66666667])"
      ]
     },
     "execution_count": 15,
     "metadata": {},
     "output_type": "execute_result"
    }
   ],
   "source": [
    "from sklearn.model_selection import cross_val_score, GridSearchCV\n",
    "\n",
    "cross_val_score(LinearRegression(), X, y, cv=3, scoring=custom_score)"
   ]
  },
  {
   "cell_type": "code",
   "execution_count": 2,
   "metadata": {},
   "outputs": [],
   "source": [
    "from sklearn.svm import SVR\n",
    "model = SVR(kernel='rbf', degree=3)\n",
    "params = {'gamma':np.arange(0.1, 1, 0.05)}\n",
    "\n",
    "grid = GridSearchCV(model, param_grid=params, cv=3, \n",
    "                    scoring=custom_score)\n",
    "\n",
    "grid.fit(X,y)\n",
    "\n"
   ]
  },
  {
   "cell_type": "code",
   "execution_count": 19,
   "metadata": {},
   "outputs": [
    {
     "data": {
      "text/plain": [
       "17.31"
      ]
     },
     "execution_count": 19,
     "metadata": {},
     "output_type": "execute_result"
    }
   ],
   "source": [
    "best_model = grid.best_estimator_\n",
    "y_pred = best_model.predict(X)\n",
    "custom_metric(y, y_pred)"
   ]
  },
  {
   "cell_type": "markdown",
   "metadata": {},
   "source": [
    "# Classification"
   ]
  },
  {
   "cell_type": "code",
   "execution_count": 3,
   "metadata": {},
   "outputs": [
    {
     "data": {
      "text/html": [
       "<div>\n",
       "<style scoped>\n",
       "    .dataframe tbody tr th:only-of-type {\n",
       "        vertical-align: middle;\n",
       "    }\n",
       "\n",
       "    .dataframe tbody tr th {\n",
       "        vertical-align: top;\n",
       "    }\n",
       "\n",
       "    .dataframe thead th {\n",
       "        text-align: right;\n",
       "    }\n",
       "</style>\n",
       "<table border=\"1\" class=\"dataframe\">\n",
       "  <thead>\n",
       "    <tr style=\"text-align: right;\">\n",
       "      <th></th>\n",
       "      <th>survived</th>\n",
       "      <th>pclass</th>\n",
       "      <th>sex</th>\n",
       "      <th>age</th>\n",
       "    </tr>\n",
       "  </thead>\n",
       "  <tbody>\n",
       "    <tr>\n",
       "      <th>0</th>\n",
       "      <td>0</td>\n",
       "      <td>3</td>\n",
       "      <td>0</td>\n",
       "      <td>22.0</td>\n",
       "    </tr>\n",
       "    <tr>\n",
       "      <th>1</th>\n",
       "      <td>1</td>\n",
       "      <td>1</td>\n",
       "      <td>1</td>\n",
       "      <td>38.0</td>\n",
       "    </tr>\n",
       "    <tr>\n",
       "      <th>2</th>\n",
       "      <td>1</td>\n",
       "      <td>3</td>\n",
       "      <td>1</td>\n",
       "      <td>26.0</td>\n",
       "    </tr>\n",
       "    <tr>\n",
       "      <th>3</th>\n",
       "      <td>1</td>\n",
       "      <td>1</td>\n",
       "      <td>1</td>\n",
       "      <td>35.0</td>\n",
       "    </tr>\n",
       "    <tr>\n",
       "      <th>4</th>\n",
       "      <td>0</td>\n",
       "      <td>3</td>\n",
       "      <td>0</td>\n",
       "      <td>35.0</td>\n",
       "    </tr>\n",
       "  </tbody>\n",
       "</table>\n",
       "</div>"
      ],
      "text/plain": [
       "   survived  pclass  sex   age\n",
       "0         0       3    0  22.0\n",
       "1         1       1    1  38.0\n",
       "2         1       3    1  26.0\n",
       "3         1       1    1  35.0\n",
       "4         0       3    0  35.0"
      ]
     },
     "execution_count": 3,
     "metadata": {},
     "output_type": "execute_result"
    }
   ],
   "source": [
    "import pandas as pd \n",
    "import seaborn as sns\n",
    "\n",
    "titanic = sns.load_dataset('titanic')\n",
    "titanic = titanic[['survived', 'pclass', 'sex', 'age']]\n",
    "titanic.dropna(axis=0, inplace=True)\n",
    "titanic['sex'].replace(['male','female'], [0,1], inplace=True)\n",
    "titanic.head()"
   ]
  },
  {
   "cell_type": "code",
   "execution_count": 4,
   "metadata": {},
   "outputs": [
    {
     "data": {
      "text/plain": [
       "0.7633053221288515"
      ]
     },
     "execution_count": 4,
     "metadata": {},
     "output_type": "execute_result"
    }
   ],
   "source": [
    "from sklearn.neighbors import KNeighborsClassifier\n",
    "model = KNeighborsClassifier(n_neighbors=20)\n",
    "#On peut donner des \n",
    "y = titanic['survived']\n",
    "X = titanic.drop('survived', axis=1)\n",
    "model.fit(X,y)\n",
    "model.score(X,y)\n",
    "#précision du modèle de 83% pour savoir si un passager a survécu ou non"
   ]
  },
  {
   "cell_type": "code",
   "execution_count": 6,
   "metadata": {},
   "outputs": [
    {
     "name": "stdout",
     "output_type": "stream",
     "text": [
      "[0]\n",
      "[[0.9 0.1]]\n"
     ]
    }
   ],
   "source": [
    "def survie(model, pclass, sex, age):\n",
    "    x = np.array([pclass, sex, age]).reshape(1,3)\n",
    "    print(model.predict(x))\n",
    "    print(model.predict_proba(x))\n",
    "survie(model, 3, 0, 38)\n"
   ]
  },
  {
   "cell_type": "markdown",
   "metadata": {},
   "source": [
    "Bonne pratique en ML: séparer le dataset en TrainSet (80%) et TestSet (20%)"
   ]
  },
  {
   "cell_type": "code",
   "execution_count": 73,
   "metadata": {},
   "outputs": [
    {
     "name": "stdout",
     "output_type": "stream",
     "text": [
      "(150, 4)\n"
     ]
    },
    {
     "data": {
      "text/plain": [
       "<matplotlib.collections.PathCollection at 0x1a1fd5f438>"
      ]
     },
     "execution_count": 73,
     "metadata": {},
     "output_type": "execute_result"
    },
    {
     "data": {
      "image/png": "[encoded data removed]",
      "text/plain": [
       "<Figure size 432x288 with 1 Axes>"
      ]
     },
     "metadata": {
      "needs_background": "light"
     },
     "output_type": "display_data"
    }
   ],
   "source": [
    "import numpy as np\n",
    "import matplotlib.pyplot as plt\n",
    "from sklearn.datasets import load_iris\n",
    "iris = load_iris()\n",
    "x=iris.data\n",
    "y=iris.target\n",
    "print(x.shape)\n",
    "plt.scatter(x[:,0], x[:,1], c=y, alpha=0.5)"
   ]
  },
  {
   "cell_type": "markdown",
   "metadata": {},
   "source": [
    "## Train Test Split"
   ]
  },
  {
   "cell_type": "code",
   "execution_count": 86,
   "metadata": {},
   "outputs": [
    {
     "name": "stdout",
     "output_type": "stream",
     "text": [
      "(120, 4)\n",
      "(30, 4)\n",
      "(120,)\n",
      "(30,)\n"
     ]
    },
    {
     "data": {
      "text/plain": [
       "<matplotlib.collections.PathCollection at 0x1a224a5860>"
      ]
     },
     "execution_count": 86,
     "metadata": {},
     "output_type": "execute_result"
    },
    {
     "data": {
      "image/png": "[encoded data removed]",
      "text/plain": [
       "<Figure size 864x288 with 2 Axes>"
      ]
     },
     "metadata": {
      "needs_background": "light"
     },
     "output_type": "display_data"
    }
   ],
   "source": [
    "from sklearn.model_selection import train_test_split\n",
    "X_train, X_test, y_train, y_test = train_test_split(x, y, test_size=0.2, random_state=5) #80% in train, 20% in test\n",
    "#le paramètre random_state permet de maintenir le random comme random.seed\n",
    "print(X_train.shape)\n",
    "print(X_test.shape)\n",
    "print(y_train.shape)\n",
    "print(y_test.shape)\n",
    "plt.figure(figsize=(12,4))\n",
    "plt.subplot(1,2,1)\n",
    "plt.scatter(X_train[:,0], X_train[:,1], c=y_train, alpha=0.5)\n",
    "plt.subplot(1,2,2)\n",
    "plt.scatter(X_test[:,0], X_test[:,1], c=y_test, alpha=0.5)"
   ]
  },
  {
   "cell_type": "markdown",
   "metadata": {},
   "source": [
    "Si on règle notre modèle pour optimiser le score du test set, on ne pourra plus l'utiliser pour calculer un score pour notre modèle. Il faut pour ça un validation set. Si on compare deux modèles de machine learning, on les jugera sur celui qui a la meilleur performance sur le validation set. Le test set nous permet de se rendre compte de sa performance dans la vraie vie. "
   ]
  },
  {
   "cell_type": "code",
   "execution_count": 91,
   "metadata": {},
   "outputs": [
    {
     "name": "stdout",
     "output_type": "stream",
     "text": [
      "Train score : 0.9833333333333333\n",
      "Test score : 0.9666666666666667\n"
     ]
    }
   ],
   "source": [
    "from sklearn.neighbors import KNeighborsClassifier\n",
    "model = KNeighborsClassifier(n_neighbors=6)\n",
    "model.fit(X_train, y_train)\n",
    "print('Train score :', model.score(X_train, y_train))\n",
    "print('Test score :', model.score(X_test, y_test))"
   ]
  },
  {
   "cell_type": "markdown",
   "metadata": {},
   "source": [
    "# Cross validation "
   ]
  },
  {
   "cell_type": "markdown",
   "metadata": {},
   "source": [
    "La cross validation nous permet d'entrainer le modèle sur plusieurs découpe du test set. On découpe le train set en 5 puis alternativement le validation set devient une des 5 parties du test set. On peut faire ensuite la moyenne des 5 configurations. --> Permet plus de robustesse lors d'un choix de modèle."
   ]
  },
  {
   "cell_type": "code",
   "execution_count": 18,
   "metadata": {},
   "outputs": [
    {
     "data": {
      "text/plain": [
       "0.9833333333333334"
      ]
     },
     "execution_count": 18,
     "metadata": {},
     "output_type": "execute_result"
    }
   ],
   "source": [
    "#KFOLD découpage simple puis on valide sur un et on train sur les autres mais par groupe\n",
    "from sklearn.model_selection import cross_val_score #on peut découper le set de test en faisant de la cross validation\n",
    "from sklearn.model_selection import KFold, LeaveOneOut, ShuffleSplit, StratifiedKFold\n",
    "cv = KFold(4, random_state=0)\n",
    "cross_val_score(KNeighborsClassifier(10), X_train, y_train, cv=cv, scoring='accuracy').mean()"
   ]
  },
  {
   "cell_type": "code",
   "execution_count": 15,
   "metadata": {},
   "outputs": [
    {
     "data": {
      "text/plain": [
       "array([1., 1., 1., 1., 1., 1., 1., 1., 1., 1., 1., 1., 1., 1., 1., 1., 1.,\n",
       "       1., 1., 1., 1., 1., 1., 1., 1., 1., 1., 1., 1., 1., 1., 1., 1., 1.,\n",
       "       1., 1., 1., 1., 1., 1., 1., 1., 1., 1., 1., 1., 1., 1., 1., 1., 1.,\n",
       "       1., 1., 1., 1., 1., 1., 1., 1., 1., 1., 1., 1., 1., 1., 1., 1., 1.,\n",
       "       1., 1., 1., 1., 1., 1., 1., 1., 1., 1., 1., 1., 1., 1., 1., 1., 0.,\n",
       "       1., 1., 1., 1., 1., 1., 1., 1., 1., 1., 1., 1., 1., 1., 1., 1., 1.,\n",
       "       1., 0., 1., 1., 1., 1., 1., 1., 1., 1., 1., 1., 1., 1., 1., 1., 1.,\n",
       "       1.])"
      ]
     },
     "execution_count": 15,
     "metadata": {},
     "output_type": "execute_result"
    }
   ],
   "source": [
    "#LEAVEONEOUT = On valide sur une valeur et train sur toutes les autres et ceux pour toutes les valeurs\n",
    "from sklearn.model_selection import cross_val_score \n",
    "from sklearn.model_selection import KFold, LeaveOneOut, ShuffleSplit, StratifiedKFold\n",
    "cv= LeaveOneOut() # Demande beaucoup de puissance au pc\n",
    "cross_val_score(KNeighborsClassifier(10), X_train, y_train, cv=cv, scoring='accuracy')"
   ]
  },
  {
   "cell_type": "code",
   "execution_count": 17,
   "metadata": {},
   "outputs": [
    {
     "data": {
      "text/plain": [
       "array([0.95833333, 0.95833333, 1.        , 1.        ])"
      ]
     },
     "execution_count": 17,
     "metadata": {},
     "output_type": "execute_result"
    }
   ],
   "source": [
    "#ShuffleSplit = Découpage selon une proportion donnée du train set pour avoir un nombre de cross validation avec une \n",
    "#proportion de train et de validation\n",
    "from sklearn.model_selection import cross_val_score \n",
    "from sklearn.model_selection import KFold, LeaveOneOut, ShuffleSplit, StratifiedKFold\n",
    "cv= ShuffleSplit(4, test_size=0.2) # Créé des splits avec à chaque fois une petite portion d'une de nos classes, \n",
    "#pas de risque de se retrouver avec des cross validation ou il manque des classes, auquel cas c'est problematique\n",
    "cross_val_score(KNeighborsClassifier(10), X_train, y_train, cv=cv, scoring='accuracy')"
   ]
  },
  {
   "cell_type": "code",
   "execution_count": 16,
   "metadata": {},
   "outputs": [
    {
     "data": {
      "text/plain": [
       "array([0.96774194, 0.96774194, 1.        , 0.92857143])"
      ]
     },
     "execution_count": 16,
     "metadata": {},
     "output_type": "execute_result"
    }
   ],
   "source": [
    "#STRATIFIEDKFOLD = CHOIX ASSEZ SUR, CHOIX PAR DEFAULT\n",
    "from sklearn.model_selection import cross_val_score \n",
    "from sklearn.model_selection import KFold, LeaveOneOut, ShuffleSplit, StratifiedKFold\n",
    "cv= StratifiedKFold(4) # Créé des splits avec à chaque fois une petite portion d'une de nos classes, \n",
    "#pas de risque de se retrouver avec des cross validation ou il manque des classes, auquel c'est problematique\n",
    "cross_val_score(KNeighborsClassifier(10), X_train, y_train, cv=cv, scoring='accuracy')"
   ]
  },
  {
   "cell_type": "code",
   "execution_count": 21,
   "metadata": {},
   "outputs": [],
   "source": [
    "#GROUPKFOLD Pour les variables non indentiquement distribuées, il faut faire des groupes qui incluent cette \"prédisposition\" \n",
    "#lorsque l'on veut tester quelquechose.\n",
    "from sklearn.model_selection import cross_val_score\n",
    "from sklearn.model_selection import KFold, LeaveOneOut, ShuffleSplit, StratifiedKFold, GroupKFold\n",
    "groups= X[:,0]\n",
    "cv= GroupKFold(n_splits=5).split(X, y, groups) \n",
    "cross_val_score(KNeighborsClassifier(10), X_train, y_train, cv=cv, scoring='accuracy')"
   ]
  },
  {
   "cell_type": "markdown",
   "metadata": {},
   "source": [
    "Là, on peut tester pour avoir le paramètres de notre modèle qui donne les meilleurs résultats sur le validation set"
   ]
  },
  {
   "cell_type": "code",
   "execution_count": 97,
   "metadata": {},
   "outputs": [
    {
     "data": {
      "text/plain": [
       "[<matplotlib.lines.Line2D at 0x1a225d9908>]"
      ]
     },
     "execution_count": 97,
     "metadata": {},
     "output_type": "execute_result"
    },
    {
     "data": {
      "image/png": "[encoded data removed]",
      "text/plain": [
       "<Figure size 432x288 with 1 Axes>"
      ]
     },
     "metadata": {
      "needs_background": "light"
     },
     "output_type": "display_data"
    }
   ],
   "source": [
    "val_score = []\n",
    "for k in range(1,50):\n",
    "    score = cross_val_score(KNeighborsClassifier(k), X_train, y_train, cv=5, scoring='accuracy').mean()\n",
    "    val_score.append(score)\n",
    "plt.plot(val_score)"
   ]
  },
  {
   "cell_type": "markdown",
   "metadata": {},
   "source": [
    "Mais on peut aussi le faire grâce à une méthode toute faite de sklearn... La validation curve"
   ]
  },
  {
   "cell_type": "markdown",
   "metadata": {},
   "source": [
    "Ici, il faut faire attention aux problèmes d'overfitting. On s'en rend compte quand le score du train set est largement suppérieur à celui du validation set. "
   ]
  },
  {
   "cell_type": "code",
   "execution_count": 103,
   "metadata": {},
   "outputs": [
    {
     "data": {
      "image/png": "[encoded data removed]",
      "text/plain": [
       "<Figure size 720x576 with 1 Axes>"
      ]
     },
     "metadata": {
      "needs_background": "light"
     },
     "output_type": "display_data"
    }
   ],
   "source": [
    "from sklearn.model_selection import validation_curve\n",
    "model = KNeighborsClassifier()\n",
    "k = np.arange(1, 50)\n",
    "train_score, validation_score = validation_curve(model, X_train, y_train, 'n_neighbors', k, cv=5)\n",
    "plt.figure(figsize=(10,8))\n",
    "plt.plot(k, validation_score.mean(axis=1), c='r', label='validation')\n",
    "plt.plot(k, train_score.mean(axis=1), c='b', label='train')\n",
    "plt.legend()\n",
    "plt.xlabel('number of neighbors')\n",
    "plt.ylabel('score')\n",
    "plt.show()"
   ]
  },
  {
   "cell_type": "markdown",
   "metadata": {},
   "source": [
    "Le mieux pour tester l'ensemble des hyperparamètres et pour améliorer le score est d'utiliser GridSearchCV, qui permet d'optimiser l'ensemble des hyperparams"
   ]
  },
  {
   "cell_type": "code",
   "execution_count": 105,
   "metadata": {},
   "outputs": [],
   "source": [
    "from sklearn.model_selection import GridSearchCV"
   ]
  },
  {
   "cell_type": "code",
   "execution_count": 108,
   "metadata": {},
   "outputs": [
    {
     "name": "stderr",
     "output_type": "stream",
     "text": [
      "/Users/Maxime/anaconda3/lib/python3.7/site-packages/sklearn/model_selection/_search.py:813: DeprecationWarning: The default of the `iid` parameter will change from True to False in version 0.22 and will be removed in 0.24. This will change numeric results when test-set sizes are unequal.\n",
      "  DeprecationWarning)\n"
     ]
    },
    {
     "data": {
      "text/plain": [
       "GridSearchCV(cv=5, error_score='raise-deprecating',\n",
       "             estimator=KNeighborsClassifier(algorithm='auto', leaf_size=30,\n",
       "                                            metric='minkowski',\n",
       "                                            metric_params=None, n_jobs=None,\n",
       "                                            n_neighbors=5, p=2,\n",
       "                                            weights='uniform'),\n",
       "             iid='warn', n_jobs=None,\n",
       "             param_grid={'metric': ['euclidean', 'manhattan'],\n",
       "                         'n_neighbors': array([ 1,  2,  3,  4,  5,  6,  7,  8,  9, 10, 11, 12, 13, 14, 15, 16, 17,\n",
       "       18, 19])},\n",
       "             pre_dispatch='2*n_jobs', refit=True, return_train_score=False,\n",
       "             scoring=None, verbose=0)"
      ]
     },
     "execution_count": 108,
     "metadata": {},
     "output_type": "execute_result"
    }
   ],
   "source": [
    "paramgrid = {'n_neighbors': np.arange(1,20),\n",
    "            'metric' : ['euclidean','manhattan']}\n",
    "\n",
    "grid = GridSearchCV(KNeighborsClassifier(), paramgrid, cv=5)\n",
    "grid.fit(X_train, y_train)"
   ]
  },
  {
   "cell_type": "code",
   "execution_count": 109,
   "metadata": {},
   "outputs": [
    {
     "data": {
      "text/plain": [
       "0.9833333333333333"
      ]
     },
     "execution_count": 109,
     "metadata": {},
     "output_type": "execute_result"
    }
   ],
   "source": [
    "grid.best_score_"
   ]
  },
  {
   "cell_type": "code",
   "execution_count": 110,
   "metadata": {},
   "outputs": [
    {
     "data": {
      "text/plain": [
       "{'metric': 'euclidean', 'n_neighbors': 9}"
      ]
     },
     "execution_count": 110,
     "metadata": {},
     "output_type": "execute_result"
    }
   ],
   "source": [
    "grid.best_params_"
   ]
  },
  {
   "cell_type": "code",
   "execution_count": 111,
   "metadata": {},
   "outputs": [
    {
     "data": {
      "text/plain": [
       "0.9666666666666667"
      ]
     },
     "execution_count": 111,
     "metadata": {},
     "output_type": "execute_result"
    }
   ],
   "source": [
    "model = grid.best_estimator_\n",
    "model.score(X_test, y_test)"
   ]
  },
  {
   "cell_type": "code",
   "execution_count": 114,
   "metadata": {},
   "outputs": [],
   "source": [
    "from sklearn.metrics import confusion_matrix"
   ]
  },
  {
   "cell_type": "markdown",
   "metadata": {},
   "source": [
    "Ici on compare en ligne le type de fleurs réel et en colonne le \"rangement\" effectué par l'algo. Autrement dit, ce qui n'est pas dans la diagonale correspond à une erreur de classification"
   ]
  },
  {
   "cell_type": "code",
   "execution_count": 115,
   "metadata": {},
   "outputs": [
    {
     "data": {
      "text/plain": [
       "array([[ 8,  0,  0],\n",
       "       [ 0, 10,  1],\n",
       "       [ 0,  0, 11]])"
      ]
     },
     "execution_count": 115,
     "metadata": {},
     "output_type": "execute_result"
    }
   ],
   "source": [
    "confusion_matrix(y_test, model.predict(X_test))"
   ]
  },
  {
   "cell_type": "markdown",
   "metadata": {},
   "source": [
    "## Learning Curve, Courbes d'apprentissage"
   ]
  },
  {
   "cell_type": "markdown",
   "metadata": {},
   "source": [
    "Performance des modèles en fonction de la quantité de données qu'on lui fournit "
   ]
  },
  {
   "cell_type": "code",
   "execution_count": 122,
   "metadata": {},
   "outputs": [
    {
     "name": "stdout",
     "output_type": "stream",
     "text": [
      "[ 10  20  30  40  51  61  71  81  91 102]\n"
     ]
    },
    {
     "data": {
      "image/png": "[encoded data removed]",
      "text/plain": [
       "<Figure size 576x432 with 1 Axes>"
      ]
     },
     "metadata": {
      "needs_background": "light"
     },
     "output_type": "display_data"
    }
   ],
   "source": [
    "from sklearn.model_selection import learning_curve\n",
    "N, train_score, val_score = learning_curve(model, X_train, y_train, train_sizes = np.linspace(0.1, 1.0, 10), cv=7)\n",
    "print(N)\n",
    "plt.figure(figsize=(8,6))\n",
    "plt.plot(N, train_score.mean(axis=1), c='r', label='train')\n",
    "plt.plot(N, val_score.mean(axis=1), c='b', label='validation')\n",
    "plt.legend()\n",
    "plt.xlabel('Size of data')\n",
    "plt.ylabel('Score')\n",
    "plt.show()"
   ]
  },
  {
   "cell_type": "markdown",
   "metadata": {},
   "source": [
    "## Exercice Titanic"
   ]
  },
  {
   "cell_type": "code",
   "execution_count": 7,
   "metadata": {},
   "outputs": [
    {
     "data": {
      "image/png": "[encoded data removed]",
      "text/plain": [
       "<Figure size 720x576 with 1 Axes>"
      ]
     },
     "metadata": {
      "needs_background": "light"
     },
     "output_type": "display_data"
    },
    {
     "name": "stdout",
     "output_type": "stream",
     "text": [
      "Grid Search Best Score & Best Params:\n",
      "0.7775831873905429 {'metric': 'manhattan', 'n_neighbors': 11}\n",
      "Score du model 0.7272727272727273\n",
      "[[69 19]\n",
      " [20 35]]\n",
      "Number:  [ 48  97 146 195 244 293 342 391 440 489]\n"
     ]
    },
    {
     "data": {
      "image/png": "[encoded data removed]",
      "text/plain": [
       "<Figure size 576x432 with 1 Axes>"
      ]
     },
     "metadata": {
      "needs_background": "light"
     },
     "output_type": "display_data"
    }
   ],
   "source": [
    "import pandas as pd \n",
    "import seaborn as sns\n",
    "import matplotlib.pyplot as plt\n",
    "from sklearn.neighbors import KNeighborsClassifier #model used here\n",
    "from sklearn.model_selection import train_test_split #split du dataset\n",
    "from sklearn.model_selection import validation_curve #validation curve\n",
    "from sklearn.model_selection import GridSearchCV #best params for ML model\n",
    "from sklearn.metrics import confusion_matrix #Matrice pour comprendre les résultats\n",
    "from sklearn.model_selection import learning_curve #Le modèle serait-il meilleur avec plus de données ?\n",
    "\n",
    "titanic = sns.load_dataset('titanic')\n",
    "titanic = titanic[['survived', 'pclass', 'sex', 'age']]\n",
    "titanic.dropna(axis=0, inplace=True)\n",
    "titanic['sex'].replace(['male','female'], [0,1], inplace=True)\n",
    "\n",
    "y = titanic['survived']\n",
    "X = titanic.drop('survived', axis=1)\n",
    "X_train, X_test, y_train, y_test = train_test_split(X, y, test_size=0.2, random_state=5)\n",
    "\n",
    "\n",
    "model = KNeighborsClassifier()\n",
    "model.fit(X_train, y_train)\n",
    "k = np.arange(1, 50)\n",
    "train_score, validation_score = validation_curve(model, X_train, y_train, 'n_neighbors', k, cv=5)\n",
    "plt.figure(figsize=(10,8))\n",
    "plt.plot(k, validation_score.mean(axis=1), c='r', label='validation')\n",
    "plt.plot(k, train_score.mean(axis=1), c='b', label='train')\n",
    "plt.legend()\n",
    "plt.xlabel('number of neighbors')\n",
    "plt.ylabel('score')\n",
    "plt.show()\n",
    "\n",
    "paramgrid = {'n_neighbors': np.arange(1,20),\n",
    "            'metric' : ['euclidean','manhattan']}\n",
    "\n",
    "grid = GridSearchCV(KNeighborsClassifier(), paramgrid, cv=5)\n",
    "grid.fit(X_train, y_train)\n",
    "print('Grid Search Best Score & Best Params:')\n",
    "print(grid.best_score_, grid.best_params_)\n",
    "\n",
    "print('Score du model',model.score(X_test, y_test))\n",
    "print(confusion_matrix(y_test, model.predict(X_test)))\n",
    "\n",
    "N, train_score, val_score = learning_curve(model, X_train, y_train, train_sizes = np.linspace(0.1, 1.0, 10), cv=7)\n",
    "print('Number: ', N)\n",
    "plt.figure(figsize=(8,6))\n",
    "plt.plot(N, train_score.mean(axis=1), c='r', label='train')\n",
    "plt.plot(N, val_score.mean(axis=1), c='b', label='validation')\n",
    "plt.legend()\n",
    "plt.xlabel('Size of data')\n",
    "plt.ylabel('Score')\n",
    "plt.show()"
   ]
  },
  {
   "cell_type": "markdown",
   "metadata": {},
   "source": [
    "##"
   ]
  },
  {
   "cell_type": "markdown",
   "metadata": {},
   "source": [
    "## MSE MAE RMSE R2"
   ]
  },
  {
   "cell_type": "markdown",
   "metadata": {},
   "source": [
    "MSE = Moyenne des erreurs au carré\n",
    "RMSE = sqrt(MSE)\n",
    "MAE = Moyenne de la valeur absolue des erreurs\n",
    "\n",
    "On utilise la MSE quand on accorde une importance exponentielle à nos erreurs (un modèle qui piloterait une voiture accorderait 100 fois plus d'importance à une erreur de 10 mètres plutot qu'à une erreur de 1 mètre).\n",
    "\n",
    "Si trop d'outliers: MAE\n",
    "Il existe aussi la médiane absolute error (encore moins sensible aux outliers)"
   ]
  },
  {
   "cell_type": "code",
   "execution_count": 8,
   "metadata": {},
   "outputs": [
    {
     "name": "stdout",
     "output_type": "stream",
     "text": [
      "Median AE  2.0\n",
      "Mean AE  199.8\n",
      "MSE  197213.8\n",
      "RMSE  444.0876039702076\n"
     ]
    }
   ],
   "source": [
    "from sklearn.metrics import *\n",
    "import numpy as np\n",
    "y = np.array([1,2,3,4,7])\n",
    "y_pred = np.array([5,4,3,4,1000])\n",
    "print('Median AE ', median_absolute_error(y, y_pred))\n",
    "print('Mean AE ', mean_absolute_error(y, y_pred))\n",
    "print('MSE ', mean_squared_error(y, y_pred))\n",
    "print('RMSE ', np.sqrt(mean_squared_error(y, y_pred))) #permet de remettre à l'échelle initiale"
   ]
  },
  {
   "cell_type": "markdown",
   "metadata": {},
   "source": [
    "## Histogramme des erreurs pour comprendre comment elles sont distribuées"
   ]
  },
  {
   "cell_type": "code",
   "execution_count": 14,
   "metadata": {},
   "outputs": [
    {
     "data": {
      "image/png": "[encoded data removed]",
      "text/plain": [
       "<Figure size 432x288 with 1 Axes>"
      ]
     },
     "metadata": {
      "needs_background": "light"
     },
     "output_type": "display_data"
    },
    {
     "data": {
      "image/png": "[encoded data removed]",
      "text/plain": [
       "<Figure size 432x288 with 1 Axes>"
      ]
     },
     "metadata": {
      "needs_background": "light"
     },
     "output_type": "display_data"
    },
    {
     "data": {
      "text/plain": [
       "0.7406426641094095"
      ]
     },
     "execution_count": 14,
     "metadata": {},
     "output_type": "execute_result"
    }
   ],
   "source": [
    "from sklearn.datasets import load_boston #prix de l'immobilier à boston\n",
    "from sklearn.linear_model import LinearRegression\n",
    "import matplotlib.pyplot as plt\n",
    "\n",
    "boston = load_boston()\n",
    "X = boston.data\n",
    "y = boston.target\n",
    "\n",
    "model = LinearRegression()\n",
    "model.fit(X,y)\n",
    "y_pred = model.predict(X)\n",
    "err_hist = np.abs(y-y_pred)\n",
    "plt.hist(err_hist, bins=50) #histogramme des erreurs\n",
    "plt.show()\n",
    "\n",
    "plt.scatter(X[:,5], y, label='y')\n",
    "plt.scatter(X[:,5], y_pred, label='y_pred', alpha=0.8)\n",
    "plt.legend()\n",
    "plt.show()\n",
    "\n",
    "model.score(X,y) # de base c'est le coeff de determination (R2)"
   ]
  },
  {
   "cell_type": "markdown",
   "metadata": {},
   "source": [
    "R2 = 1 - ∑ (y - y_pred)2/∑ (y - moyenne(y))2\n",
    "Lorsque R2 est proche de 1, les erreurs du modèle sont très faible par rapport à la variance des données.\n",
    "\n",
    "Si les erreurs sont plus grandes que la variance des données, on peut obtenir un R2 négatif."
   ]
  },
  {
   "cell_type": "code",
   "execution_count": 20,
   "metadata": {},
   "outputs": [
    {
     "data": {
      "text/plain": [
       "array([ -3.32352337,  -4.27948547, -13.47752829])"
      ]
     },
     "execution_count": 20,
     "metadata": {},
     "output_type": "execute_result"
    }
   ],
   "source": [
    "from sklearn.model_selection import cross_val_score\n",
    "cross_val_score(LinearRegression(), X, y, cv=3, scoring='neg_mean_absolute_error')\n",
    "#MAE pour notre modèle:"
   ]
  },
  {
   "cell_type": "code",
   "execution_count": 19,
   "metadata": {},
   "outputs": [
    {
     "data": {
      "text/plain": [
       "['accuracy',\n",
       " 'adjusted_mutual_info_score',\n",
       " 'adjusted_rand_score',\n",
       " 'average_precision',\n",
       " 'balanced_accuracy',\n",
       " 'brier_score_loss',\n",
       " 'completeness_score',\n",
       " 'explained_variance',\n",
       " 'f1',\n",
       " 'f1_macro',\n",
       " 'f1_micro',\n",
       " 'f1_samples',\n",
       " 'f1_weighted',\n",
       " 'fowlkes_mallows_score',\n",
       " 'homogeneity_score',\n",
       " 'jaccard',\n",
       " 'jaccard_macro',\n",
       " 'jaccard_micro',\n",
       " 'jaccard_samples',\n",
       " 'jaccard_weighted',\n",
       " 'max_error',\n",
       " 'mutual_info_score',\n",
       " 'neg_log_loss',\n",
       " 'neg_mean_absolute_error',\n",
       " 'neg_mean_squared_error',\n",
       " 'neg_mean_squared_log_error',\n",
       " 'neg_median_absolute_error',\n",
       " 'normalized_mutual_info_score',\n",
       " 'precision',\n",
       " 'precision_macro',\n",
       " 'precision_micro',\n",
       " 'precision_samples',\n",
       " 'precision_weighted',\n",
       " 'r2',\n",
       " 'recall',\n",
       " 'recall_macro',\n",
       " 'recall_micro',\n",
       " 'recall_samples',\n",
       " 'recall_weighted',\n",
       " 'roc_auc',\n",
       " 'v_measure_score']"
      ]
     },
     "execution_count": 19,
     "metadata": {},
     "output_type": "execute_result"
    }
   ],
   "source": [
    "import sklearn.metrics\n",
    "sorted(sklearn.metrics.SCORERS.keys())"
   ]
  },
  {
   "cell_type": "markdown",
   "metadata": {},
   "source": [
    "# Data pre-processing"
   ]
  },
  {
   "cell_type": "markdown",
   "metadata": {},
   "source": [
    "1-Encodage, 2-Normalisation, 3-imputation, 4-selection, 5-extraction"
   ]
  },
  {
   "cell_type": "markdown",
   "metadata": {},
   "source": [
    "1 & 2 : module preprocessing\n",
    "En combinant un transformer et un estimateur, on obtient un pipeline.\n",
    "+ important = Label/Hot, minmax/standardscaler , polynomialfeatures\n",
    "\n",
    "Encodage ordinal (label encoder et ordinal encoder): une valeur texte = une valeur numérique"
   ]
  },
  {
   "cell_type": "code",
   "execution_count": 17,
   "metadata": {},
   "outputs": [],
   "source": [
    "import numpy as np\n",
    "from sklearn.preprocessing import *\n",
    "\n",
    "X= np.array(['Chat',\n",
    "             'Chien',\n",
    "             'Chat',\n",
    "             'Oiseau'])"
   ]
  },
  {
   "cell_type": "code",
   "execution_count": 10,
   "metadata": {},
   "outputs": [
    {
     "name": "stdout",
     "output_type": "stream",
     "text": [
      "['Chat' 'Chien' 'Oiseau']\n"
     ]
    },
    {
     "data": {
      "text/plain": [
       "array([0, 1, 0, 2])"
      ]
     },
     "execution_count": 10,
     "metadata": {},
     "output_type": "execute_result"
    }
   ],
   "source": [
    "encoder = LabelEncoder()\n",
    "encoder.fit(X)\n",
    "print(encoder.classes_)\n",
    "encoder.transform(X)"
   ]
  },
  {
   "cell_type": "code",
   "execution_count": 11,
   "metadata": {},
   "outputs": [
    {
     "data": {
      "text/plain": [
       "array([0, 1, 0, 2])"
      ]
     },
     "execution_count": 11,
     "metadata": {},
     "output_type": "execute_result"
    }
   ],
   "source": [
    "encoder.fit_transform(X) #les deux d'un coup"
   ]
  },
  {
   "cell_type": "code",
   "execution_count": 12,
   "metadata": {},
   "outputs": [
    {
     "data": {
      "text/plain": [
       "array(['Chat', 'Chat', 'Oiseau'], dtype='<U6')"
      ]
     },
     "execution_count": 12,
     "metadata": {},
     "output_type": "execute_result"
    }
   ],
   "source": [
    "encoder.inverse_transform(np.array([0,0,2])) #inverse "
   ]
  },
  {
   "cell_type": "markdown",
   "metadata": {},
   "source": [
    "tableau deux dimensions : ordinal encoder"
   ]
  },
  {
   "cell_type": "code",
   "execution_count": 18,
   "metadata": {},
   "outputs": [],
   "source": [
    "Y= np.array([['Chat', 'Chien'],\n",
    "             ['Chien','Chien'],\n",
    "             ['Chat', 'Oiseau'],\n",
    "             ['Oiseau', 'Chat']])"
   ]
  },
  {
   "cell_type": "code",
   "execution_count": 19,
   "metadata": {},
   "outputs": [
    {
     "data": {
      "text/plain": [
       "array([[0., 1.],\n",
       "       [1., 1.],\n",
       "       [0., 2.],\n",
       "       [2., 0.]])"
      ]
     },
     "execution_count": 19,
     "metadata": {},
     "output_type": "execute_result"
    }
   ],
   "source": [
    "encoder = OrdinalEncoder() #tableau à deux dimensions\n",
    "encoder.fit_transform(Y) #les deux d'un coup"
   ]
  },
  {
   "cell_type": "markdown",
   "metadata": {},
   "source": [
    "## Encodage one hot"
   ]
  },
  {
   "cell_type": "code",
   "execution_count": 23,
   "metadata": {},
   "outputs": [
    {
     "data": {
      "text/plain": [
       "<4x3 sparse matrix of type '<class 'numpy.int64'>'\n",
       "\twith 4 stored elements in Compressed Sparse Row format>"
      ]
     },
     "execution_count": 23,
     "metadata": {},
     "output_type": "execute_result"
    }
   ],
   "source": [
    "X= np.array(['Chat',\n",
    "             'Chien',\n",
    "             'Chat',\n",
    "             'Oiseau'])\n",
    "encoder = LabelBinarizer(sparse_output=True)\n",
    "encoder.fit_transform(X)\n",
    "#attention l'encodage one hot peut donner un tableau très grand\n",
    "#mais il s'agit d'une matrice creuse, sparse matrix. Matrice rempli en majorité de nombre 0\n",
    "#elle peut etre compréssée avec sparse output"
   ]
  },
  {
   "cell_type": "code",
   "execution_count": 24,
   "metadata": {},
   "outputs": [
    {
     "data": {
      "text/plain": [
       "<4x6 sparse matrix of type '<class 'numpy.float64'>'\n",
       "\twith 8 stored elements in Compressed Sparse Row format>"
      ]
     },
     "execution_count": 24,
     "metadata": {},
     "output_type": "execute_result"
    }
   ],
   "source": [
    "Y= np.array([['Chat', 'Chien'],\n",
    "             ['Chien','Chien'],\n",
    "             ['Chat', 'Oiseau'],\n",
    "             ['Oiseau', 'Chat']])\n",
    "encoder = OneHotEncoder()\n",
    "encoder.fit_transform(Y)"
   ]
  },
  {
   "cell_type": "markdown",
   "metadata": {},
   "source": [
    "## Normalisation"
   ]
  },
  {
   "cell_type": "code",
   "execution_count": 33,
   "metadata": {},
   "outputs": [
    {
     "data": {
      "text/plain": [
       "array([[0. ],\n",
       "       [0.2],\n",
       "       [1. ]])"
      ]
     },
     "execution_count": 33,
     "metadata": {},
     "output_type": "execute_result"
    }
   ],
   "source": [
    "X = np.array([[70],[80],[120]])\n",
    "scaler = MinMaxScaler() # X Train scaled= (X Train - X Train min)/(X Train max - X Train min)\n",
    "scaler.fit_transform(X)\n",
    "#attention quand on appliquera le transformer sur la variable de test\n",
    "#X Test scaled= (X Test - X Train min)/(X Train max - X Train min)"
   ]
  },
  {
   "cell_type": "code",
   "execution_count": 46,
   "metadata": {},
   "outputs": [
    {
     "data": {
      "image/png": "[encoded data removed]",
      "text/plain": [
       "<Figure size 432x288 with 1 Axes>"
      ]
     },
     "metadata": {
      "needs_background": "light"
     },
     "output_type": "display_data"
    }
   ],
   "source": [
    "from sklearn.datasets import load_iris\n",
    "import matplotlib.pyplot as plt\n",
    "iris = load_iris()\n",
    "X=iris.data\n",
    "\n",
    "X_minmax = MinMaxScaler().fit_transform(X) # Données plus écrasées\n",
    "X_stdScaller = StandardScaler().fit_transform(X) #Données moins écrasées\n",
    "\n",
    "plt.scatter(X[:,2], X[:,3])\n",
    "plt.scatter(X_minmax[:,2], X_minmax[:,3], c='r', alpha=0.5)\n",
    "plt.scatter(X_stdScaller[:,2], X_stdScaller[:,3], c='g', alpha=0.2)\n",
    "\n",
    "plt.show()\n",
    "\n",
    "#ces deux méthodes ont un gros défaut: elles sont sensibles aux outliers"
   ]
  },
  {
   "cell_type": "code",
   "execution_count": 44,
   "metadata": {},
   "outputs": [
    {
     "data": {
      "text/plain": [
       "array([[-0.9258201 ],\n",
       "       [-0.46291005],\n",
       "       [ 1.38873015]])"
      ]
     },
     "execution_count": 44,
     "metadata": {},
     "output_type": "execute_result"
    }
   ],
   "source": [
    "X = np.array([[70],[80],[120]])\n",
    "scaler = StandardScaler()\n",
    "scaler.fit_transform(X) #moyenne =0, écart type=1\n",
    "#utile en pce"
   ]
  },
  {
   "cell_type": "code",
   "execution_count": null,
   "metadata": {},
   "outputs": [],
   "source": [
    "#Il existe un transformeur peut sensible aux outliers:\n",
    "#Le robust scaler\n",
    "#RobustScaler\n",
    "#X Scaled = (X - MEDIAN)/ IQR\n",
    "#nb: IQR: Q3-Q1\n",
    "\n",
    "#Normalizer : normalise sur les lignes et non les colonnes\n",
    "#ne pas utiliser pour débuter"
   ]
  },
  {
   "cell_type": "markdown",
   "metadata": {},
   "source": [
    "## Features Engeenering"
   ]
  },
  {
   "cell_type": "markdown",
   "metadata": {},
   "source": [
    "Feature engineering :\n",
    "dvp un modèle polynomial\n",
    "\n",
    "PowerTransformer : Rendre plus \"normale\" une distribution\n",
    "Binarizer: Transformer qui permettent de discétiser des variables continues\n",
    "FunctionTransformer : Implémenter sa propre fonction de transformation"
   ]
  },
  {
   "cell_type": "markdown",
   "metadata": {},
   "source": [
    "Polynomial Features permet de créer une variable à partir de plusieurs variables. Il ne faut pas oublier des les normaliser. "
   ]
  },
  {
   "cell_type": "markdown",
   "metadata": {},
   "source": [
    "## Pipeline"
   ]
  },
  {
   "cell_type": "code",
   "execution_count": 47,
   "metadata": {},
   "outputs": [
    {
     "data": {
      "text/plain": [
       "array([1, 1, 2, 0, 2, 1, 0, 2, 0, 1, 1, 1, 2, 2, 0, 0, 2, 2, 0, 0, 1, 2,\n",
       "       0, 1, 1, 2, 1, 1, 1, 2])"
      ]
     },
     "execution_count": 47,
     "metadata": {},
     "output_type": "execute_result"
    }
   ],
   "source": [
    "from sklearn.datasets import load_iris\n",
    "from sklearn.model_selection import train_test_split\n",
    "from sklearn.linear_model import SGDClassifier\n",
    "\n",
    "iris = load_iris()\n",
    "\n",
    "X = iris.data\n",
    "y = iris.target\n",
    "\n",
    "X_train, X_test, y_train, y_test = train_test_split(X, y, test_size=0.2, random_state=5)\n",
    "\n",
    "#Transformer\n",
    "scaler = StandardScaler()\n",
    "X_train_transformed = scaler.fit_transform(X_train) # fit_transform le train\n",
    "\n",
    "#Estimator\n",
    "model = SGDClassifier(random_state=0)\n",
    "model.fit(X_train_transformed, y_train)\n",
    "\n",
    "#Test\n",
    "X_test_transformed = scaler.transform(X_test) # transform le test\n",
    "model.predict(X_test_transformed)"
   ]
  },
  {
   "cell_type": "markdown",
   "metadata": {},
   "source": [
    "Il existe une méthode plus simple pour écrire ce code à l'aide d'un pipeline   "
   ]
  },
  {
   "cell_type": "code",
   "execution_count": null,
   "metadata": {},
   "outputs": [],
   "source": [
    "from sklearn.pipeline import make_pipeline\n",
    "model = make_pipeline(StandardScaler(), SGDClassifier())\n",
    "model.fit(X_train, y_train)\n",
    "model.predict(X_test)"
   ]
  },
  {
   "cell_type": "markdown",
   "metadata": {},
   "source": [
    "# Démonstration de cross validation avec pipeline"
   ]
  },
  {
   "cell_type": "code",
   "execution_count": 59,
   "metadata": {},
   "outputs": [
    {
     "name": "stderr",
     "output_type": "stream",
     "text": [
      "/Users/Maxime/anaconda3/lib/python3.7/site-packages/sklearn/model_selection/_search.py:813: DeprecationWarning: The default of the `iid` parameter will change from True to False in version 0.22 and will be removed in 0.24. This will change numeric results when test-set sizes are unequal.\n",
      "  DeprecationWarning)\n"
     ]
    },
    {
     "data": {
      "text/plain": [
       "GridSearchCV(cv=4, error_score='raise-deprecating',\n",
       "             estimator=Pipeline(memory=None,\n",
       "                                steps=[('polynomialfeatures',\n",
       "                                        PolynomialFeatures(degree=2,\n",
       "                                                           include_bias=True,\n",
       "                                                           interaction_only=False,\n",
       "                                                           order='C')),\n",
       "                                       ('standardscaler',\n",
       "                                        StandardScaler(copy=True,\n",
       "                                                       with_mean=True,\n",
       "                                                       with_std=True)),\n",
       "                                       ('sgdclassifier',\n",
       "                                        SGDClassifier(alpha=0.0001,\n",
       "                                                      average=False,\n",
       "                                                      class_weight=None,\n",
       "                                                      early_sto...\n",
       "                                                      n_iter_no_change=5,\n",
       "                                                      n_jobs=None, penalty='l2',\n",
       "                                                      power_t=0.5,\n",
       "                                                      random_state=0,\n",
       "                                                      shuffle=True, tol=0.001,\n",
       "                                                      validation_fraction=0.1,\n",
       "                                                      verbose=0,\n",
       "                                                      warm_start=False))],\n",
       "                                verbose=False),\n",
       "             iid='warn', n_jobs=None,\n",
       "             param_grid={'polynomialfeatures__degree': [2, 3, 4],\n",
       "                         'sgdclassifier__penalty': ['l1', 'l2']},\n",
       "             pre_dispatch='2*n_jobs', refit=True, return_train_score=False,\n",
       "             scoring=None, verbose=0)"
      ]
     },
     "execution_count": 59,
     "metadata": {},
     "output_type": "execute_result"
    }
   ],
   "source": [
    "from sklearn.pipeline import make_pipeline\n",
    "from sklearn.model_selection import GridSearchCV\n",
    "from sklearn.datasets import load_iris\n",
    "from sklearn.model_selection import train_test_split\n",
    "from sklearn.linear_model import SGDClassifier\n",
    "\n",
    "iris = load_iris()\n",
    "\n",
    "X = iris.data\n",
    "y = iris.target\n",
    "\n",
    "X_train, X_test, y_train, y_test = train_test_split(X, y, test_size=0.2, random_state=5)\n",
    "\n",
    "model = make_pipeline(PolynomialFeatures(), StandardScaler(), SGDClassifier(random_state=0))\n",
    "\n",
    "params = {\n",
    "    'polynomialfeatures__degree':[2,3,4],\n",
    "    'sgdclassifier__penalty':['l1','l2']\n",
    "}\n",
    "\n",
    "grid = GridSearchCV(model, param_grid=params, cv=4)\n",
    "grid.fit(X_train, y_train)"
   ]
  },
  {
   "cell_type": "code",
   "execution_count": 60,
   "metadata": {},
   "outputs": [
    {
     "data": {
      "text/plain": [
       "{'polynomialfeatures__degree': 2, 'sgdclassifier__penalty': 'l1'}"
      ]
     },
     "execution_count": 60,
     "metadata": {},
     "output_type": "execute_result"
    }
   ],
   "source": [
    "grid.best_params_"
   ]
  },
  {
   "cell_type": "code",
   "execution_count": 61,
   "metadata": {},
   "outputs": [
    {
     "data": {
      "text/plain": [
       "0.9"
      ]
     },
     "execution_count": 61,
     "metadata": {},
     "output_type": "execute_result"
    }
   ],
   "source": [
    "grid.score(X_test, y_test)"
   ]
  },
  {
   "cell_type": "markdown",
   "metadata": {},
   "source": [
    "# Pipeline avancés"
   ]
  },
  {
   "cell_type": "code",
   "execution_count": 7,
   "metadata": {},
   "outputs": [],
   "source": [
    "import numpy as np\n",
    "import matplotlib.pyplot as plt\n",
    "from sklearn.preprocessing import StandardScaler\n",
    "from sklearn.pipeline import make_pipeline\n",
    "from sklearn.linear_model import SGDClassifier\n",
    "import seaborn as sns"
   ]
  },
  {
   "cell_type": "code",
   "execution_count": 8,
   "metadata": {},
   "outputs": [
    {
     "data": {
      "text/html": [
       "<div>\n",
       "<style scoped>\n",
       "    .dataframe tbody tr th:only-of-type {\n",
       "        vertical-align: middle;\n",
       "    }\n",
       "\n",
       "    .dataframe tbody tr th {\n",
       "        vertical-align: top;\n",
       "    }\n",
       "\n",
       "    .dataframe thead th {\n",
       "        text-align: right;\n",
       "    }\n",
       "</style>\n",
       "<table border=\"1\" class=\"dataframe\">\n",
       "  <thead>\n",
       "    <tr style=\"text-align: right;\">\n",
       "      <th></th>\n",
       "      <th>survived</th>\n",
       "      <th>pclass</th>\n",
       "      <th>sex</th>\n",
       "      <th>age</th>\n",
       "      <th>sibsp</th>\n",
       "      <th>parch</th>\n",
       "      <th>fare</th>\n",
       "      <th>embarked</th>\n",
       "      <th>class</th>\n",
       "      <th>who</th>\n",
       "      <th>adult_male</th>\n",
       "      <th>deck</th>\n",
       "      <th>embark_town</th>\n",
       "      <th>alive</th>\n",
       "      <th>alone</th>\n",
       "    </tr>\n",
       "  </thead>\n",
       "  <tbody>\n",
       "    <tr>\n",
       "      <th>0</th>\n",
       "      <td>0</td>\n",
       "      <td>3</td>\n",
       "      <td>male</td>\n",
       "      <td>22.0</td>\n",
       "      <td>1</td>\n",
       "      <td>0</td>\n",
       "      <td>7.2500</td>\n",
       "      <td>S</td>\n",
       "      <td>Third</td>\n",
       "      <td>man</td>\n",
       "      <td>True</td>\n",
       "      <td>NaN</td>\n",
       "      <td>Southampton</td>\n",
       "      <td>no</td>\n",
       "      <td>False</td>\n",
       "    </tr>\n",
       "    <tr>\n",
       "      <th>1</th>\n",
       "      <td>1</td>\n",
       "      <td>1</td>\n",
       "      <td>female</td>\n",
       "      <td>38.0</td>\n",
       "      <td>1</td>\n",
       "      <td>0</td>\n",
       "      <td>71.2833</td>\n",
       "      <td>C</td>\n",
       "      <td>First</td>\n",
       "      <td>woman</td>\n",
       "      <td>False</td>\n",
       "      <td>C</td>\n",
       "      <td>Cherbourg</td>\n",
       "      <td>yes</td>\n",
       "      <td>False</td>\n",
       "    </tr>\n",
       "    <tr>\n",
       "      <th>2</th>\n",
       "      <td>1</td>\n",
       "      <td>3</td>\n",
       "      <td>female</td>\n",
       "      <td>26.0</td>\n",
       "      <td>0</td>\n",
       "      <td>0</td>\n",
       "      <td>7.9250</td>\n",
       "      <td>S</td>\n",
       "      <td>Third</td>\n",
       "      <td>woman</td>\n",
       "      <td>False</td>\n",
       "      <td>NaN</td>\n",
       "      <td>Southampton</td>\n",
       "      <td>yes</td>\n",
       "      <td>True</td>\n",
       "    </tr>\n",
       "    <tr>\n",
       "      <th>3</th>\n",
       "      <td>1</td>\n",
       "      <td>1</td>\n",
       "      <td>female</td>\n",
       "      <td>35.0</td>\n",
       "      <td>1</td>\n",
       "      <td>0</td>\n",
       "      <td>53.1000</td>\n",
       "      <td>S</td>\n",
       "      <td>First</td>\n",
       "      <td>woman</td>\n",
       "      <td>False</td>\n",
       "      <td>C</td>\n",
       "      <td>Southampton</td>\n",
       "      <td>yes</td>\n",
       "      <td>False</td>\n",
       "    </tr>\n",
       "    <tr>\n",
       "      <th>4</th>\n",
       "      <td>0</td>\n",
       "      <td>3</td>\n",
       "      <td>male</td>\n",
       "      <td>35.0</td>\n",
       "      <td>0</td>\n",
       "      <td>0</td>\n",
       "      <td>8.0500</td>\n",
       "      <td>S</td>\n",
       "      <td>Third</td>\n",
       "      <td>man</td>\n",
       "      <td>True</td>\n",
       "      <td>NaN</td>\n",
       "      <td>Southampton</td>\n",
       "      <td>no</td>\n",
       "      <td>True</td>\n",
       "    </tr>\n",
       "  </tbody>\n",
       "</table>\n",
       "</div>"
      ],
      "text/plain": [
       "   survived  pclass     sex   age  sibsp  parch     fare embarked  class  \\\n",
       "0         0       3    male  22.0      1      0   7.2500        S  Third   \n",
       "1         1       1  female  38.0      1      0  71.2833        C  First   \n",
       "2         1       3  female  26.0      0      0   7.9250        S  Third   \n",
       "3         1       1  female  35.0      1      0  53.1000        S  First   \n",
       "4         0       3    male  35.0      0      0   8.0500        S  Third   \n",
       "\n",
       "     who  adult_male deck  embark_town alive  alone  \n",
       "0    man        True  NaN  Southampton    no  False  \n",
       "1  woman       False    C    Cherbourg   yes  False  \n",
       "2  woman       False  NaN  Southampton   yes   True  \n",
       "3  woman       False    C  Southampton   yes  False  \n",
       "4    man        True  NaN  Southampton    no   True  "
      ]
     },
     "execution_count": 8,
     "metadata": {},
     "output_type": "execute_result"
    }
   ],
   "source": [
    "titanic = sns.load_dataset('titanic')\n",
    "titanic.head() #retourne une erreur car il faut transformer les colonnes\n",
    "#pour pouvoir lui appliquer une normalisation\n",
    "# ----> Make_column_transformer"
   ]
  },
  {
   "cell_type": "code",
   "execution_count": 9,
   "metadata": {},
   "outputs": [],
   "source": [
    "y = titanic['survived']\n",
    "X = titanic.drop('survived', axis=1)"
   ]
  },
  {
   "cell_type": "code",
   "execution_count": 11,
   "metadata": {},
   "outputs": [],
   "source": [
    "model = make_pipeline(StandardScaler(), SGDClassifier())\n",
    "model.fit(X, y) #on obtient une erreur suite à la normalisation de variables qualitatives"
   ]
  },
  {
   "cell_type": "code",
   "execution_count": 19,
   "metadata": {},
   "outputs": [],
   "source": [
    "from sklearn.compose import make_column_transformer #Normalisation\n",
    "transformer = make_column_transformer((StandardScaler(),\n",
    "                                  ['age', 'fare']))"
   ]
  },
  {
   "cell_type": "code",
   "execution_count": 20,
   "metadata": {},
   "outputs": [
    {
     "data": {
      "text/plain": [
       "array([[-0.53037664, -0.50244517],\n",
       "       [ 0.57183099,  0.78684529],\n",
       "       [-0.25482473, -0.48885426],\n",
       "       ...,\n",
       "       [        nan, -0.17626324],\n",
       "       [-0.25482473, -0.04438104],\n",
       "       [ 0.15850313, -0.49237783]])"
      ]
     },
     "execution_count": 20,
     "metadata": {},
     "output_type": "execute_result"
    }
   ],
   "source": [
    "transformer.fit_transform(X)"
   ]
  },
  {
   "cell_type": "code",
   "execution_count": null,
   "metadata": {},
   "outputs": [],
   "source": [
    "#on utilise le nouveau transformer fait sur mesure dans notre pipeline\n",
    "model = make_pipeline(transformer, SGDClassifier())\n",
    "model.fit(X, y)"
   ]
  },
  {
   "cell_type": "markdown",
   "metadata": {},
   "source": [
    "Il faut d'abord classer ses données, crééer des pipelines pour chaque catégories de features. Utiliser Make column transformer pour lier les pipelines avec les bons features puis créer un pipeline final avec ce preprocessor (variable contenant le make_column_tranformer). C'est ce dernier qu'on entraine avec le bon modèle."
   ]
  },
  {
   "cell_type": "code",
   "execution_count": 15,
   "metadata": {},
   "outputs": [],
   "source": [
    "#Dans la pratique, on distingue les variables catégorielles:\n",
    "numerical_features = ['pclass', 'age', 'fare']\n",
    "categorical_features = ['sex', 'deck', 'alone']"
   ]
  },
  {
   "cell_type": "code",
   "execution_count": 16,
   "metadata": {},
   "outputs": [],
   "source": [
    "from sklearn.preprocessing import *\n",
    "from sklearn.pipeline import *\n",
    "from sklearn.linear_model import *\n",
    "from sklearn.impute import *\n",
    "from sklearn.compose import *\n",
    "\n",
    "numerical_pipeline = make_pipeline(SimpleImputer(), StandardScaler()) #Normalisation pour les variables quanti\n",
    "categorical_pipeline = make_pipeline(SimpleImputer(strategy ='most_frequent'),\n",
    "                                    OneHotEncoder()) #One hot pour les variables quali"
   ]
  },
  {
   "cell_type": "code",
   "execution_count": 17,
   "metadata": {},
   "outputs": [],
   "source": [
    "preprocessor = make_column_transformer((numerical_pipeline, numerical_features),\n",
    "                       (categorical_pipeline, categorical_features))"
   ]
  },
  {
   "cell_type": "code",
   "execution_count": 18,
   "metadata": {
    "scrolled": true
   },
   "outputs": [
    {
     "data": {
      "text/plain": [
       "Pipeline(memory=None,\n",
       "         steps=[('columntransformer',\n",
       "                 ColumnTransformer(n_jobs=None, remainder='drop',\n",
       "                                   sparse_threshold=0.3,\n",
       "                                   transformer_weights=None,\n",
       "                                   transformers=[('pipeline-1',\n",
       "                                                  Pipeline(memory=None,\n",
       "                                                           steps=[('simpleimputer',\n",
       "                                                                   SimpleImputer(add_indicator=False,\n",
       "                                                                                 copy=True,\n",
       "                                                                                 fill_value=None,\n",
       "                                                                                 missing_values=nan,\n",
       "                                                                                 strategy='mean',\n",
       "                                                                                 verbose=0)),\n",
       "                                                                  ('standardscaler',\n",
       "                                                                   StandardSc...\n",
       "                 SGDClassifier(alpha=0.0001, average=False, class_weight=None,\n",
       "                               early_stopping=False, epsilon=0.1, eta0=0.0,\n",
       "                               fit_intercept=True, l1_ratio=0.15,\n",
       "                               learning_rate='optimal', loss='hinge',\n",
       "                               max_iter=1000, n_iter_no_change=5, n_jobs=None,\n",
       "                               penalty='l2', power_t=0.5, random_state=None,\n",
       "                               shuffle=True, tol=0.001, validation_fraction=0.1,\n",
       "                               verbose=0, warm_start=False))],\n",
       "         verbose=False)"
      ]
     },
     "execution_count": 18,
     "metadata": {},
     "output_type": "execute_result"
    }
   ],
   "source": [
    "model = make_pipeline(preprocessor, SGDClassifier())\n",
    "model.fit(X, y)"
   ]
  },
  {
   "cell_type": "code",
   "execution_count": 19,
   "metadata": {},
   "outputs": [
    {
     "data": {
      "text/plain": [
       "0.7654320987654321"
      ]
     },
     "execution_count": 19,
     "metadata": {},
     "output_type": "execute_result"
    }
   ],
   "source": [
    "model.score(X,y)"
   ]
  },
  {
   "cell_type": "markdown",
   "metadata": {},
   "source": [
    "# Imputer : nettoyer ou remplacer des valeurs manquantes dans un dataset"
   ]
  },
  {
   "cell_type": "code",
   "execution_count": 20,
   "metadata": {},
   "outputs": [],
   "source": [
    "from sklearn.linear_model import SGDClassifier\n",
    "from sklearn.impute import SimpleImputer\n",
    "X = np.array([[10,3],\n",
    "              [0,4],\n",
    "              [5,3],\n",
    "              [np.nan, 3]])"
   ]
  },
  {
   "cell_type": "code",
   "execution_count": 21,
   "metadata": {},
   "outputs": [
    {
     "data": {
      "text/plain": [
       "array([[10.,  3.],\n",
       "       [ 0.,  4.],\n",
       "       [ 5.,  3.],\n",
       "       [ 5.,  3.]])"
      ]
     },
     "execution_count": 21,
     "metadata": {},
     "output_type": "execute_result"
    }
   ],
   "source": [
    "imputer = SimpleImputer(missing_values=np.nan,\n",
    "             strategy='mean')\n",
    "#il existe 4 stratégie: remplacer par la moyenne, la médiane, la plus fréquente, ou encore\n",
    "#par une constante\n",
    "imputer.fit_transform(X)"
   ]
  },
  {
   "cell_type": "code",
   "execution_count": null,
   "metadata": {},
   "outputs": [],
   "source": [
    "X_test = np.array([[10,3],\n",
    "              [0,4],\n",
    "              [5,3],\n",
    "              [np.nan, 3]])\n",
    "imputer.transform(X_test) #Attention le principe d'un transformer est de traiter toutes les données (train et test) de manière cohérente,\n",
    "#donc l'imputer remplacera les valeurs manquantes du test set avec la moyenne du train set"
   ]
  },
  {
   "cell_type": "markdown",
   "metadata": {},
   "source": [
    "KNNImputer = algo classique du nombre de voisin pour remplacer valeurs manquantes. Typiquement s'il me manque une valeur de classe de cabine dans le dataset du titanic, alors il va comparer les autres personnes à bord et deviner à partir de cet algo dans quelle cabine voyage la personne dont la valeur manque. \n",
    "On peut l'utiliser avec GRIDSEARCHCV pour connaitre le nombre de voisin optimal pour trouver des valeurs cohérentes."
   ]
  },
  {
   "cell_type": "markdown",
   "metadata": {},
   "source": [
    "MissingindIndicator = Il nous indique ou il manque des données dans le dataset\n",
    "Ça peut être très utile pour rajouter une colonne au dataset s'il manque des données.\n",
    "Par exemple les matelos n'ont pas payé de billet. Donc c'est normal qu'ils aient des valeurs manquantes.\n",
    "\n",
    "Voyons comment ça fonctionne avec make_union**:\n",
    "** Pour rappel, cette fonction permet de traiter de manière parralèle des données puis de concaténer les résultats\n"
   ]
  },
  {
   "cell_type": "code",
   "execution_count": 23,
   "metadata": {},
   "outputs": [
    {
     "data": {
      "text/plain": [
       "array([[False],\n",
       "       [False],\n",
       "       [False],\n",
       "       [ True]])"
      ]
     },
     "execution_count": 23,
     "metadata": {},
     "output_type": "execute_result"
    }
   ],
   "source": [
    "from sklearn.impute import MissingIndicator\n",
    "\n",
    "MissingIndicator().fit_transform(X)"
   ]
  },
  {
   "cell_type": "code",
   "execution_count": 25,
   "metadata": {},
   "outputs": [
    {
     "data": {
      "text/plain": [
       "array([[ 10.,   3.,   0.],\n",
       "       [  0.,   4.,   0.],\n",
       "       [  5.,   3.,   0.],\n",
       "       [-99.,   3.,   1.]])"
      ]
     },
     "execution_count": 25,
     "metadata": {},
     "output_type": "execute_result"
    }
   ],
   "source": [
    "pipeline = make_union(SimpleImputer(strategy='constant', fill_value=-99), #remplace par -99\n",
    "                     MissingIndicator())\n",
    "pipeline.fit_transform(X)\n",
    "#on a ici un tableau de deux colonnes\n",
    "#le premier, c'est nos données avec les valeurs manquantes\n",
    "#le second c'est une colonne ou le 1 signifie qu'il manque des données\n",
    "#donc avec notre hypothèse, il peut s'agir d'un matelos puisque\n",
    "#il manque le prix du billet seulement pour les matelos"
   ]
  },
  {
   "cell_type": "markdown",
   "metadata": {},
   "source": [
    "ASTUCE DATA SCIENTIST: Le manque d'information peut devenir une information"
   ]
  },
  {
   "cell_type": "code",
   "execution_count": 3,
   "metadata": {},
   "outputs": [],
   "source": [
    "from sklearn.pipeline import make_pipeline\n",
    "from sklearn.model_selection import GridSearchCV\n",
    "from sklearn.model_selection import train_test_split\n",
    "from sklearn.linear_model import SGDClassifier\n",
    "from sklearn.impute import KNNImputer\n",
    "import seaborn as sns\n",
    "\n",
    "titanic= sns.load_dataset('titanic')\n",
    "X = titanic[['pclass', 'age']]\n",
    "y = titanic['survived']\n",
    "\n",
    "X_train, X_test, y_train, y_test = train_test_split(X, y, test_size=0.2, random_state=5)"
   ]
  },
  {
   "cell_type": "code",
   "execution_count": 4,
   "metadata": {},
   "outputs": [],
   "source": [
    "model = make_pipeline(KNNImputer(), SGDClassifier())"
   ]
  },
  {
   "cell_type": "code",
   "execution_count": 5,
   "metadata": {},
   "outputs": [],
   "source": [
    "#ici c'est le nombre de voisin pour le remplacement des données\n",
    "#\n",
    "params={\n",
    "    'knnimputer__n_neighbors': [1,2,3,4]\n",
    "}"
   ]
  },
  {
   "cell_type": "code",
   "execution_count": 6,
   "metadata": {},
   "outputs": [],
   "source": [
    "grid = GridSearchCV(model, param_grid=params, cv=5)"
   ]
  },
  {
   "cell_type": "code",
   "execution_count": 7,
   "metadata": {},
   "outputs": [
    {
     "data": {
      "text/plain": [
       "GridSearchCV(cv=5, error_score=nan,\n",
       "             estimator=Pipeline(memory=None,\n",
       "                                steps=[('knnimputer',\n",
       "                                        KNNImputer(add_indicator=False,\n",
       "                                                   copy=True,\n",
       "                                                   metric='nan_euclidean',\n",
       "                                                   missing_values=nan,\n",
       "                                                   n_neighbors=5,\n",
       "                                                   weights='uniform')),\n",
       "                                       ('sgdclassifier',\n",
       "                                        SGDClassifier(alpha=0.0001,\n",
       "                                                      average=False,\n",
       "                                                      class_weight=None,\n",
       "                                                      early_stopping=False,\n",
       "                                                      epsilon=0.1, eta0=0.0,\n",
       "                                                      fit_intercept=True,\n",
       "                                                      l1_ratio=0...\n",
       "                                                      loss='hinge',\n",
       "                                                      max_iter=1000,\n",
       "                                                      n_iter_no_change=5,\n",
       "                                                      n_jobs=None, penalty='l2',\n",
       "                                                      power_t=0.5,\n",
       "                                                      random_state=None,\n",
       "                                                      shuffle=True, tol=0.001,\n",
       "                                                      validation_fraction=0.1,\n",
       "                                                      verbose=0,\n",
       "                                                      warm_start=False))],\n",
       "                                verbose=False),\n",
       "             iid='deprecated', n_jobs=None,\n",
       "             param_grid={'knnimputer__n_neighbors': [1, 2, 3, 4]},\n",
       "             pre_dispatch='2*n_jobs', refit=True, return_train_score=False,\n",
       "             scoring=None, verbose=0)"
      ]
     },
     "execution_count": 7,
     "metadata": {},
     "output_type": "execute_result"
    }
   ],
   "source": [
    "grid.fit(X_train, y_train)"
   ]
  },
  {
   "cell_type": "code",
   "execution_count": 8,
   "metadata": {},
   "outputs": [
    {
     "data": {
      "text/plain": [
       "{'knnimputer__n_neighbors': 4}"
      ]
     },
     "execution_count": 8,
     "metadata": {},
     "output_type": "execute_result"
    }
   ],
   "source": [
    "grid.best_params_"
   ]
  },
  {
   "cell_type": "markdown",
   "metadata": {},
   "source": [
    "On a optimisé le remplacement de données manquantes avec un gridsearch cv\n",
    "CHOSE qui ne serait pas possible avec le fillna de pandas "
   ]
  },
  {
   "cell_type": "markdown",
   "metadata": {},
   "source": [
    "# Feature selection"
   ]
  },
  {
   "cell_type": "markdown",
   "metadata": {},
   "source": [
    "Trouver les variables les plus utiles pour notre modèle de machine learning\n",
    "\n",
    "Quand on fournit trop de données à un modèle, ça nuit à sa performance"
   ]
  },
  {
   "cell_type": "markdown",
   "metadata": {},
   "source": [
    "Dans le modèle feature selection, il y a des transformer, et des test de dépendance statistiques pour analyser encore une fois quels features nous devons sélectionner."
   ]
  },
  {
   "cell_type": "code",
   "execution_count": 10,
   "metadata": {},
   "outputs": [],
   "source": [
    "#VarianceThreshold\n",
    "#Élimine les variables dont la variance est inférieur à un certain seuil"
   ]
  },
  {
   "cell_type": "code",
   "execution_count": 21,
   "metadata": {},
   "outputs": [],
   "source": [
    "from sklearn.datasets import load_iris\n",
    "from sklearn.feature_selection import VarianceThreshold\n",
    "import matplotlib.pyplot as plt\n",
    "import numpy as np"
   ]
  },
  {
   "cell_type": "code",
   "execution_count": 22,
   "metadata": {},
   "outputs": [
    {
     "data": {
      "text/plain": [
       "<matplotlib.legend.Legend at 0x1a1910a090>"
      ]
     },
     "execution_count": 22,
     "metadata": {},
     "output_type": "execute_result"
    },
    {
     "data": {
      "image/png": "[encoded data removed]",
      "text/plain": [
       "<Figure size 432x288 with 1 Axes>"
      ]
     },
     "metadata": {
      "needs_background": "light"
     },
     "output_type": "display_data"
    }
   ],
   "source": [
    "iris = load_iris()\n",
    "X = iris.data\n",
    "y = iris.target\n",
    "\n",
    "plt.plot(X)\n",
    "plt.legend(iris.feature_names)"
   ]
  },
  {
   "cell_type": "code",
   "execution_count": 23,
   "metadata": {},
   "outputs": [
    {
     "data": {
      "text/plain": [
       "array([0.68112222, 0.18871289, 3.09550267, 0.57713289])"
      ]
     },
     "execution_count": 23,
     "metadata": {},
     "output_type": "execute_result"
    }
   ],
   "source": [
    "X.var(axis=0) #variance de nos variables"
   ]
  },
  {
   "cell_type": "code",
   "execution_count": 24,
   "metadata": {},
   "outputs": [
    {
     "data": {
      "text/plain": [
       "array([ True, False,  True,  True])"
      ]
     },
     "execution_count": 24,
     "metadata": {},
     "output_type": "execute_result"
    }
   ],
   "source": [
    "selector = VarianceThreshold(threshold=0.2)\n",
    "selector.fit_transform(X)\n",
    "selector.get_support() #Les False ont été supprimés à cause de leur\n",
    "#variance < threshold"
   ]
  },
  {
   "cell_type": "code",
   "execution_count": 25,
   "metadata": {},
   "outputs": [
    {
     "data": {
      "text/plain": [
       "array(['sepal length (cm)', 'petal length (cm)', 'petal width (cm)'],\n",
       "      dtype='<U17')"
      ]
     },
     "execution_count": 25,
     "metadata": {},
     "output_type": "execute_result"
    }
   ],
   "source": [
    "#On peut s'en servir pour du boolean indexing.\n",
    "np.array(iris.feature_names)[selector.get_support()]"
   ]
  },
  {
   "cell_type": "markdown",
   "metadata": {},
   "source": [
    "## Test de dépendance"
   ]
  },
  {
   "cell_type": "markdown",
   "metadata": {},
   "source": [
    "SelectKBest -> sélectionne les K meilleur score à un certains test statistique"
   ]
  },
  {
   "cell_type": "code",
   "execution_count": 29,
   "metadata": {},
   "outputs": [],
   "source": [
    "from sklearn.feature_selection import SelectKBest, chi2"
   ]
  },
  {
   "cell_type": "code",
   "execution_count": 30,
   "metadata": {},
   "outputs": [
    {
     "data": {
      "text/plain": [
       "(array([ 10.81782088,   3.7107283 , 116.31261309,  67.0483602 ]),\n",
       " array([4.47651499e-03, 1.56395980e-01, 5.53397228e-26, 2.75824965e-15]))"
      ]
     },
     "execution_count": 30,
     "metadata": {},
     "output_type": "execute_result"
    }
   ],
   "source": [
    "chi2(X,y) #premier tableau = résultat du test\n",
    "#second tableau p-value"
   ]
  },
  {
   "cell_type": "code",
   "execution_count": 32,
   "metadata": {},
   "outputs": [
    {
     "data": {
      "text/plain": [
       "array([False, False,  True, False])"
      ]
     },
     "execution_count": 32,
     "metadata": {},
     "output_type": "execute_result"
    }
   ],
   "source": [
    "selector = SelectKBest(chi2, k=1) #=1, ie on veut le meilleur, on peut aussi choisir un autre nombre de meilleurs\n",
    "selector.fit_transform(X, y)\n",
    "selector.get_support()"
   ]
  },
  {
   "cell_type": "code",
   "execution_count": 33,
   "metadata": {},
   "outputs": [
    {
     "data": {
      "text/plain": [
       "array(['petal length (cm)'], dtype='<U17')"
      ]
     },
     "execution_count": 33,
     "metadata": {},
     "output_type": "execute_result"
    }
   ],
   "source": [
    "np.array(iris.feature_names)[selector.get_support()] #boolean indexing pour trouver la valeur qui a le plus fort score chi2"
   ]
  },
  {
   "cell_type": "markdown",
   "metadata": {},
   "source": [
    "## SelectFromModel"
   ]
  },
  {
   "cell_type": "markdown",
   "metadata": {},
   "source": [
    "Entraine un estimateur puis sélectionne les variables les plus importantes pour cet estimateur (compatible avec les estimateurs qui développent une fonction paramétrée)."
   ]
  },
  {
   "cell_type": "markdown",
   "metadata": {},
   "source": [
    "Incompatible avec KNN par exemple car ce n'est pas un modèle paramétrée"
   ]
  },
  {
   "cell_type": "code",
   "execution_count": 40,
   "metadata": {},
   "outputs": [
    {
     "data": {
      "text/plain": [
       "array([[  8.64029104,  27.2851296 , -40.01819009, -17.73533424],\n",
       "       [ -5.48888269, -58.79616709,  22.88584985, -54.14457159],\n",
       "       [-81.28026953, -75.17372078, 130.76437145, 131.39608339]])"
      ]
     },
     "execution_count": 40,
     "metadata": {},
     "output_type": "execute_result"
    }
   ],
   "source": [
    "from sklearn.feature_selection import SelectFromModel\n",
    "selector = SelectFromModel(SGDClassifier(random_state=0),\n",
    "                          threshold='mean')\n",
    "selector.fit_transform(X,y)\n",
    "selector.get_support()\n",
    "selector.estimator_.coef_\n",
    "#on a une matrice de 150 par 4 de variables\n",
    "#et en résultat on a une 150 par 3 car l'encodage one hot determine trois\n",
    "#type de fleur. Il faut donc multiplier par une matrice 3, 4 pour\n",
    "#obtenir notre résultat\n",
    "#en colonne les coeff pour chaque variable du modèle\n",
    "#en ligne les coeff pour chaque classe de y qu'on prédit"
   ]
  },
  {
   "cell_type": "code",
   "execution_count": 43,
   "metadata": {},
   "outputs": [
    {
     "data": {
      "text/plain": [
       "-0.9721175565229512"
      ]
     },
     "execution_count": 43,
     "metadata": {},
     "output_type": "execute_result"
    }
   ],
   "source": [
    "selector.estimator_.coef_.mean(axis=0).mean()\n",
    "#le select from model va sélectionner les coeff qui sont supérieurs \n",
    "#à la moyenne suivante"
   ]
  },
  {
   "cell_type": "code",
   "execution_count": 44,
   "metadata": {},
   "outputs": [
    {
     "data": {
      "text/plain": [
       "array([-26.04295373, -35.56158609,  37.87734374,  19.83872585])"
      ]
     },
     "execution_count": 44,
     "metadata": {},
     "output_type": "execute_result"
    }
   ],
   "source": [
    "selector.estimator_.coef_.mean(axis=0)"
   ]
  },
  {
   "cell_type": "code",
   "execution_count": 45,
   "metadata": {},
   "outputs": [
    {
     "data": {
      "text/plain": [
       "array([False, False,  True,  True])"
      ]
     },
     "execution_count": 45,
     "metadata": {},
     "output_type": "execute_result"
    }
   ],
   "source": [
    "selector.get_support() #les deux premiers sont bien< -0.97"
   ]
  },
  {
   "cell_type": "markdown",
   "metadata": {},
   "source": [
    "## Selecteurs récursifs RFE RFECV"
   ]
  },
  {
   "cell_type": "markdown",
   "metadata": {},
   "source": [
    "Ces méthodes éliminent les variables les moins importantes de façon récursive"
   ]
  },
  {
   "cell_type": "code",
   "execution_count": 47,
   "metadata": {},
   "outputs": [
    {
     "data": {
      "text/plain": [
       "array([2, 1, 1, 1])"
      ]
     },
     "execution_count": 47,
     "metadata": {},
     "output_type": "execute_result"
    }
   ],
   "source": [
    "from sklearn.feature_selection import RFE, RFECV\n",
    "selector = RFECV(SGDClassifier(), step=1, min_features_to_select=2, cv=5)\n",
    "#step= le nombre qu'on veut éliminer\n",
    "selector.fit(X,y)\n",
    "selector.ranking_ #les 3 dernières variables son ex aequo en terme\n",
    "#d'importance tandis que la première variable est à la deuxième place"
   ]
  },
  {
   "cell_type": "code",
   "execution_count": 49,
   "metadata": {},
   "outputs": [
    {
     "data": {
      "text/plain": [
       "array([0.78666667, 0.87333333, 0.80666667])"
      ]
     },
     "execution_count": 49,
     "metadata": {},
     "output_type": "execute_result"
    }
   ],
   "source": [
    "selector.grid_scores_ #quand le score diminue, l'algo récursif comprend qu'il ne faut plus en enlever"
   ]
  }
 ],
 "metadata": {
  "kernelspec": {
   "display_name": "Python 3",
   "language": "python",
   "name": "python3"
  },
  "language_info": {
   "codemirror_mode": {
    "name": "ipython",
    "version": 3
   },
   "file_extension": ".py",
   "mimetype": "text/x-python",
   "name": "python",
   "nbconvert_exporter": "python",
   "pygments_lexer": "ipython3",
   "version": "3.7.6"
  }
 },
 "nbformat": 4,
 "nbformat_minor": 2
}
